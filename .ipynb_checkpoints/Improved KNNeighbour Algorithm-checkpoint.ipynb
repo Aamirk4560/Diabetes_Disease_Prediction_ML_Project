{
 "cells": [
  {
   "cell_type": "markdown",
   "id": "47508afe",
   "metadata": {},
   "source": [
    "# TTDS: Machine Learning project "
   ]
  },
  {
   "cell_type": "markdown",
   "id": "1ae8cf68",
   "metadata": {},
   "source": [
    "# Accuracy Improved KNNeighbour Algorithm"
   ]
  },
  {
   "cell_type": "code",
   "execution_count": 127,
   "id": "683f3bf7",
   "metadata": {},
   "outputs": [],
   "source": [
    "import pandas as pd\n",
    "import numpy as np\n",
    "import seaborn as sns\n",
    "import matplotlib as plt\n",
    "from matplotlib import pyplot \n",
    "import matplotlib.pyplot as plt"
   ]
  },
  {
   "cell_type": "code",
   "execution_count": 128,
   "id": "37d7cab2",
   "metadata": {},
   "outputs": [],
   "source": [
    "data=pd.read_csv(\"D:/DataSets/diabetes.csv\")"
   ]
  },
  {
   "cell_type": "code",
   "execution_count": 129,
   "id": "db0ded7a",
   "metadata": {},
   "outputs": [
    {
     "data": {
      "text/html": [
       "<div>\n",
       "<style scoped>\n",
       "    .dataframe tbody tr th:only-of-type {\n",
       "        vertical-align: middle;\n",
       "    }\n",
       "\n",
       "    .dataframe tbody tr th {\n",
       "        vertical-align: top;\n",
       "    }\n",
       "\n",
       "    .dataframe thead th {\n",
       "        text-align: right;\n",
       "    }\n",
       "</style>\n",
       "<table border=\"1\" class=\"dataframe\">\n",
       "  <thead>\n",
       "    <tr style=\"text-align: right;\">\n",
       "      <th></th>\n",
       "      <th>preg</th>\n",
       "      <th>glucose</th>\n",
       "      <th>bp_diastolic</th>\n",
       "      <th>skin_triceps</th>\n",
       "      <th>insulin</th>\n",
       "      <th>bmi</th>\n",
       "      <th>pedigree</th>\n",
       "      <th>age</th>\n",
       "      <th>label</th>\n",
       "    </tr>\n",
       "  </thead>\n",
       "  <tbody>\n",
       "    <tr>\n",
       "      <th>0</th>\n",
       "      <td>6</td>\n",
       "      <td>148</td>\n",
       "      <td>72</td>\n",
       "      <td>35</td>\n",
       "      <td>0</td>\n",
       "      <td>33.6</td>\n",
       "      <td>0.627</td>\n",
       "      <td>50</td>\n",
       "      <td>1</td>\n",
       "    </tr>\n",
       "    <tr>\n",
       "      <th>1</th>\n",
       "      <td>1</td>\n",
       "      <td>85</td>\n",
       "      <td>66</td>\n",
       "      <td>29</td>\n",
       "      <td>0</td>\n",
       "      <td>26.6</td>\n",
       "      <td>0.351</td>\n",
       "      <td>31</td>\n",
       "      <td>0</td>\n",
       "    </tr>\n",
       "    <tr>\n",
       "      <th>2</th>\n",
       "      <td>8</td>\n",
       "      <td>183</td>\n",
       "      <td>64</td>\n",
       "      <td>0</td>\n",
       "      <td>0</td>\n",
       "      <td>23.3</td>\n",
       "      <td>0.672</td>\n",
       "      <td>32</td>\n",
       "      <td>1</td>\n",
       "    </tr>\n",
       "    <tr>\n",
       "      <th>3</th>\n",
       "      <td>1</td>\n",
       "      <td>89</td>\n",
       "      <td>66</td>\n",
       "      <td>23</td>\n",
       "      <td>94</td>\n",
       "      <td>28.1</td>\n",
       "      <td>0.167</td>\n",
       "      <td>21</td>\n",
       "      <td>0</td>\n",
       "    </tr>\n",
       "    <tr>\n",
       "      <th>4</th>\n",
       "      <td>0</td>\n",
       "      <td>137</td>\n",
       "      <td>40</td>\n",
       "      <td>35</td>\n",
       "      <td>168</td>\n",
       "      <td>43.1</td>\n",
       "      <td>2.288</td>\n",
       "      <td>33</td>\n",
       "      <td>1</td>\n",
       "    </tr>\n",
       "    <tr>\n",
       "      <th>...</th>\n",
       "      <td>...</td>\n",
       "      <td>...</td>\n",
       "      <td>...</td>\n",
       "      <td>...</td>\n",
       "      <td>...</td>\n",
       "      <td>...</td>\n",
       "      <td>...</td>\n",
       "      <td>...</td>\n",
       "      <td>...</td>\n",
       "    </tr>\n",
       "    <tr>\n",
       "      <th>763</th>\n",
       "      <td>10</td>\n",
       "      <td>101</td>\n",
       "      <td>76</td>\n",
       "      <td>48</td>\n",
       "      <td>180</td>\n",
       "      <td>32.9</td>\n",
       "      <td>0.171</td>\n",
       "      <td>63</td>\n",
       "      <td>0</td>\n",
       "    </tr>\n",
       "    <tr>\n",
       "      <th>764</th>\n",
       "      <td>2</td>\n",
       "      <td>122</td>\n",
       "      <td>70</td>\n",
       "      <td>27</td>\n",
       "      <td>0</td>\n",
       "      <td>36.8</td>\n",
       "      <td>0.340</td>\n",
       "      <td>27</td>\n",
       "      <td>0</td>\n",
       "    </tr>\n",
       "    <tr>\n",
       "      <th>765</th>\n",
       "      <td>5</td>\n",
       "      <td>121</td>\n",
       "      <td>72</td>\n",
       "      <td>23</td>\n",
       "      <td>112</td>\n",
       "      <td>26.2</td>\n",
       "      <td>0.245</td>\n",
       "      <td>30</td>\n",
       "      <td>0</td>\n",
       "    </tr>\n",
       "    <tr>\n",
       "      <th>766</th>\n",
       "      <td>1</td>\n",
       "      <td>126</td>\n",
       "      <td>60</td>\n",
       "      <td>0</td>\n",
       "      <td>0</td>\n",
       "      <td>30.1</td>\n",
       "      <td>0.349</td>\n",
       "      <td>47</td>\n",
       "      <td>1</td>\n",
       "    </tr>\n",
       "    <tr>\n",
       "      <th>767</th>\n",
       "      <td>1</td>\n",
       "      <td>93</td>\n",
       "      <td>70</td>\n",
       "      <td>31</td>\n",
       "      <td>0</td>\n",
       "      <td>30.4</td>\n",
       "      <td>0.315</td>\n",
       "      <td>23</td>\n",
       "      <td>0</td>\n",
       "    </tr>\n",
       "  </tbody>\n",
       "</table>\n",
       "<p>768 rows × 9 columns</p>\n",
       "</div>"
      ],
      "text/plain": [
       "     preg  glucose  bp_diastolic  skin_triceps  insulin   bmi  pedigree  age  \\\n",
       "0       6      148            72            35        0  33.6     0.627   50   \n",
       "1       1       85            66            29        0  26.6     0.351   31   \n",
       "2       8      183            64             0        0  23.3     0.672   32   \n",
       "3       1       89            66            23       94  28.1     0.167   21   \n",
       "4       0      137            40            35      168  43.1     2.288   33   \n",
       "..    ...      ...           ...           ...      ...   ...       ...  ...   \n",
       "763    10      101            76            48      180  32.9     0.171   63   \n",
       "764     2      122            70            27        0  36.8     0.340   27   \n",
       "765     5      121            72            23      112  26.2     0.245   30   \n",
       "766     1      126            60             0        0  30.1     0.349   47   \n",
       "767     1       93            70            31        0  30.4     0.315   23   \n",
       "\n",
       "     label  \n",
       "0        1  \n",
       "1        0  \n",
       "2        1  \n",
       "3        0  \n",
       "4        1  \n",
       "..     ...  \n",
       "763      0  \n",
       "764      0  \n",
       "765      0  \n",
       "766      1  \n",
       "767      0  \n",
       "\n",
       "[768 rows x 9 columns]"
      ]
     },
     "execution_count": 129,
     "metadata": {},
     "output_type": "execute_result"
    }
   ],
   "source": [
    "data"
   ]
  },
  {
   "cell_type": "markdown",
   "id": "1e243dd1",
   "metadata": {},
   "source": [
    "# Dataset Extension"
   ]
  },
  {
   "cell_type": "code",
   "execution_count": 130,
   "id": "b7067ac2",
   "metadata": {},
   "outputs": [
    {
     "data": {
      "text/html": [
       "<div>\n",
       "<style scoped>\n",
       "    .dataframe tbody tr th:only-of-type {\n",
       "        vertical-align: middle;\n",
       "    }\n",
       "\n",
       "    .dataframe tbody tr th {\n",
       "        vertical-align: top;\n",
       "    }\n",
       "\n",
       "    .dataframe thead th {\n",
       "        text-align: right;\n",
       "    }\n",
       "</style>\n",
       "<table border=\"1\" class=\"dataframe\">\n",
       "  <thead>\n",
       "    <tr style=\"text-align: right;\">\n",
       "      <th></th>\n",
       "      <th>preg</th>\n",
       "      <th>glucose</th>\n",
       "      <th>bp_diastolic</th>\n",
       "      <th>skin_triceps</th>\n",
       "      <th>insulin</th>\n",
       "      <th>bmi</th>\n",
       "      <th>pedigree</th>\n",
       "      <th>age</th>\n",
       "      <th>label</th>\n",
       "    </tr>\n",
       "  </thead>\n",
       "  <tbody>\n",
       "    <tr>\n",
       "      <th>0</th>\n",
       "      <td>6</td>\n",
       "      <td>148</td>\n",
       "      <td>72</td>\n",
       "      <td>35</td>\n",
       "      <td>0</td>\n",
       "      <td>33.6</td>\n",
       "      <td>0.627</td>\n",
       "      <td>50</td>\n",
       "      <td>1</td>\n",
       "    </tr>\n",
       "    <tr>\n",
       "      <th>1</th>\n",
       "      <td>1</td>\n",
       "      <td>85</td>\n",
       "      <td>66</td>\n",
       "      <td>29</td>\n",
       "      <td>0</td>\n",
       "      <td>26.6</td>\n",
       "      <td>0.351</td>\n",
       "      <td>31</td>\n",
       "      <td>0</td>\n",
       "    </tr>\n",
       "    <tr>\n",
       "      <th>2</th>\n",
       "      <td>8</td>\n",
       "      <td>183</td>\n",
       "      <td>64</td>\n",
       "      <td>0</td>\n",
       "      <td>0</td>\n",
       "      <td>23.3</td>\n",
       "      <td>0.672</td>\n",
       "      <td>32</td>\n",
       "      <td>1</td>\n",
       "    </tr>\n",
       "    <tr>\n",
       "      <th>3</th>\n",
       "      <td>1</td>\n",
       "      <td>89</td>\n",
       "      <td>66</td>\n",
       "      <td>23</td>\n",
       "      <td>94</td>\n",
       "      <td>28.1</td>\n",
       "      <td>0.167</td>\n",
       "      <td>21</td>\n",
       "      <td>0</td>\n",
       "    </tr>\n",
       "    <tr>\n",
       "      <th>4</th>\n",
       "      <td>0</td>\n",
       "      <td>137</td>\n",
       "      <td>40</td>\n",
       "      <td>35</td>\n",
       "      <td>168</td>\n",
       "      <td>43.1</td>\n",
       "      <td>2.288</td>\n",
       "      <td>33</td>\n",
       "      <td>1</td>\n",
       "    </tr>\n",
       "    <tr>\n",
       "      <th>...</th>\n",
       "      <td>...</td>\n",
       "      <td>...</td>\n",
       "      <td>...</td>\n",
       "      <td>...</td>\n",
       "      <td>...</td>\n",
       "      <td>...</td>\n",
       "      <td>...</td>\n",
       "      <td>...</td>\n",
       "      <td>...</td>\n",
       "    </tr>\n",
       "    <tr>\n",
       "      <th>1531</th>\n",
       "      <td>10</td>\n",
       "      <td>101</td>\n",
       "      <td>76</td>\n",
       "      <td>48</td>\n",
       "      <td>180</td>\n",
       "      <td>32.9</td>\n",
       "      <td>0.171</td>\n",
       "      <td>63</td>\n",
       "      <td>0</td>\n",
       "    </tr>\n",
       "    <tr>\n",
       "      <th>1532</th>\n",
       "      <td>2</td>\n",
       "      <td>122</td>\n",
       "      <td>70</td>\n",
       "      <td>27</td>\n",
       "      <td>0</td>\n",
       "      <td>36.8</td>\n",
       "      <td>0.340</td>\n",
       "      <td>27</td>\n",
       "      <td>0</td>\n",
       "    </tr>\n",
       "    <tr>\n",
       "      <th>1533</th>\n",
       "      <td>5</td>\n",
       "      <td>121</td>\n",
       "      <td>72</td>\n",
       "      <td>23</td>\n",
       "      <td>112</td>\n",
       "      <td>26.2</td>\n",
       "      <td>0.245</td>\n",
       "      <td>30</td>\n",
       "      <td>0</td>\n",
       "    </tr>\n",
       "    <tr>\n",
       "      <th>1534</th>\n",
       "      <td>1</td>\n",
       "      <td>126</td>\n",
       "      <td>60</td>\n",
       "      <td>0</td>\n",
       "      <td>0</td>\n",
       "      <td>30.1</td>\n",
       "      <td>0.349</td>\n",
       "      <td>47</td>\n",
       "      <td>1</td>\n",
       "    </tr>\n",
       "    <tr>\n",
       "      <th>1535</th>\n",
       "      <td>1</td>\n",
       "      <td>93</td>\n",
       "      <td>70</td>\n",
       "      <td>31</td>\n",
       "      <td>0</td>\n",
       "      <td>30.4</td>\n",
       "      <td>0.315</td>\n",
       "      <td>23</td>\n",
       "      <td>0</td>\n",
       "    </tr>\n",
       "  </tbody>\n",
       "</table>\n",
       "<p>1536 rows × 9 columns</p>\n",
       "</div>"
      ],
      "text/plain": [
       "      preg  glucose  bp_diastolic  skin_triceps  insulin   bmi  pedigree  age  \\\n",
       "0        6      148            72            35        0  33.6     0.627   50   \n",
       "1        1       85            66            29        0  26.6     0.351   31   \n",
       "2        8      183            64             0        0  23.3     0.672   32   \n",
       "3        1       89            66            23       94  28.1     0.167   21   \n",
       "4        0      137            40            35      168  43.1     2.288   33   \n",
       "...    ...      ...           ...           ...      ...   ...       ...  ...   \n",
       "1531    10      101            76            48      180  32.9     0.171   63   \n",
       "1532     2      122            70            27        0  36.8     0.340   27   \n",
       "1533     5      121            72            23      112  26.2     0.245   30   \n",
       "1534     1      126            60             0        0  30.1     0.349   47   \n",
       "1535     1       93            70            31        0  30.4     0.315   23   \n",
       "\n",
       "      label  \n",
       "0         1  \n",
       "1         0  \n",
       "2         1  \n",
       "3         0  \n",
       "4         1  \n",
       "...     ...  \n",
       "1531      0  \n",
       "1532      0  \n",
       "1533      0  \n",
       "1534      1  \n",
       "1535      0  \n",
       "\n",
       "[1536 rows x 9 columns]"
      ]
     },
     "execution_count": 130,
     "metadata": {},
     "output_type": "execute_result"
    }
   ],
   "source": [
    "# Generate synthetic data by doubling the 'label' values\n",
    "data_synthetic = data.copy()\n",
    "\n",
    "# Concatenate the original and synthetic DataFrames\n",
    "df = pd.concat([data, data_synthetic], ignore_index=True)\n",
    "\n",
    "# Display the extended DataFrame\n",
    "df"
   ]
  },
  {
   "cell_type": "code",
   "execution_count": 131,
   "id": "26c0b176",
   "metadata": {},
   "outputs": [
    {
     "data": {
      "text/html": [
       "<div>\n",
       "<style scoped>\n",
       "    .dataframe tbody tr th:only-of-type {\n",
       "        vertical-align: middle;\n",
       "    }\n",
       "\n",
       "    .dataframe tbody tr th {\n",
       "        vertical-align: top;\n",
       "    }\n",
       "\n",
       "    .dataframe thead th {\n",
       "        text-align: right;\n",
       "    }\n",
       "</style>\n",
       "<table border=\"1\" class=\"dataframe\">\n",
       "  <thead>\n",
       "    <tr style=\"text-align: right;\">\n",
       "      <th></th>\n",
       "      <th>preg</th>\n",
       "      <th>glucose</th>\n",
       "      <th>bp_diastolic</th>\n",
       "      <th>skin_triceps</th>\n",
       "      <th>insulin</th>\n",
       "      <th>bmi</th>\n",
       "      <th>pedigree</th>\n",
       "      <th>age</th>\n",
       "      <th>label</th>\n",
       "    </tr>\n",
       "  </thead>\n",
       "  <tbody>\n",
       "    <tr>\n",
       "      <th>0</th>\n",
       "      <td>6</td>\n",
       "      <td>148</td>\n",
       "      <td>72</td>\n",
       "      <td>35</td>\n",
       "      <td>0</td>\n",
       "      <td>33.6</td>\n",
       "      <td>0.627</td>\n",
       "      <td>50</td>\n",
       "      <td>1</td>\n",
       "    </tr>\n",
       "    <tr>\n",
       "      <th>1</th>\n",
       "      <td>1</td>\n",
       "      <td>85</td>\n",
       "      <td>66</td>\n",
       "      <td>29</td>\n",
       "      <td>0</td>\n",
       "      <td>26.6</td>\n",
       "      <td>0.351</td>\n",
       "      <td>31</td>\n",
       "      <td>0</td>\n",
       "    </tr>\n",
       "    <tr>\n",
       "      <th>2</th>\n",
       "      <td>8</td>\n",
       "      <td>183</td>\n",
       "      <td>64</td>\n",
       "      <td>0</td>\n",
       "      <td>0</td>\n",
       "      <td>23.3</td>\n",
       "      <td>0.672</td>\n",
       "      <td>32</td>\n",
       "      <td>1</td>\n",
       "    </tr>\n",
       "    <tr>\n",
       "      <th>3</th>\n",
       "      <td>1</td>\n",
       "      <td>89</td>\n",
       "      <td>66</td>\n",
       "      <td>23</td>\n",
       "      <td>94</td>\n",
       "      <td>28.1</td>\n",
       "      <td>0.167</td>\n",
       "      <td>21</td>\n",
       "      <td>0</td>\n",
       "    </tr>\n",
       "    <tr>\n",
       "      <th>4</th>\n",
       "      <td>0</td>\n",
       "      <td>137</td>\n",
       "      <td>40</td>\n",
       "      <td>35</td>\n",
       "      <td>168</td>\n",
       "      <td>43.1</td>\n",
       "      <td>2.288</td>\n",
       "      <td>33</td>\n",
       "      <td>1</td>\n",
       "    </tr>\n",
       "    <tr>\n",
       "      <th>5</th>\n",
       "      <td>5</td>\n",
       "      <td>116</td>\n",
       "      <td>74</td>\n",
       "      <td>0</td>\n",
       "      <td>0</td>\n",
       "      <td>25.6</td>\n",
       "      <td>0.201</td>\n",
       "      <td>30</td>\n",
       "      <td>0</td>\n",
       "    </tr>\n",
       "    <tr>\n",
       "      <th>6</th>\n",
       "      <td>3</td>\n",
       "      <td>78</td>\n",
       "      <td>50</td>\n",
       "      <td>32</td>\n",
       "      <td>88</td>\n",
       "      <td>31.0</td>\n",
       "      <td>0.248</td>\n",
       "      <td>26</td>\n",
       "      <td>1</td>\n",
       "    </tr>\n",
       "    <tr>\n",
       "      <th>7</th>\n",
       "      <td>10</td>\n",
       "      <td>115</td>\n",
       "      <td>0</td>\n",
       "      <td>0</td>\n",
       "      <td>0</td>\n",
       "      <td>35.3</td>\n",
       "      <td>0.134</td>\n",
       "      <td>29</td>\n",
       "      <td>0</td>\n",
       "    </tr>\n",
       "    <tr>\n",
       "      <th>8</th>\n",
       "      <td>2</td>\n",
       "      <td>197</td>\n",
       "      <td>70</td>\n",
       "      <td>45</td>\n",
       "      <td>543</td>\n",
       "      <td>30.5</td>\n",
       "      <td>0.158</td>\n",
       "      <td>53</td>\n",
       "      <td>1</td>\n",
       "    </tr>\n",
       "    <tr>\n",
       "      <th>9</th>\n",
       "      <td>8</td>\n",
       "      <td>125</td>\n",
       "      <td>96</td>\n",
       "      <td>0</td>\n",
       "      <td>0</td>\n",
       "      <td>0.0</td>\n",
       "      <td>0.232</td>\n",
       "      <td>54</td>\n",
       "      <td>1</td>\n",
       "    </tr>\n",
       "  </tbody>\n",
       "</table>\n",
       "</div>"
      ],
      "text/plain": [
       "   preg  glucose  bp_diastolic  skin_triceps  insulin   bmi  pedigree  age  \\\n",
       "0     6      148            72            35        0  33.6     0.627   50   \n",
       "1     1       85            66            29        0  26.6     0.351   31   \n",
       "2     8      183            64             0        0  23.3     0.672   32   \n",
       "3     1       89            66            23       94  28.1     0.167   21   \n",
       "4     0      137            40            35      168  43.1     2.288   33   \n",
       "5     5      116            74             0        0  25.6     0.201   30   \n",
       "6     3       78            50            32       88  31.0     0.248   26   \n",
       "7    10      115             0             0        0  35.3     0.134   29   \n",
       "8     2      197            70            45      543  30.5     0.158   53   \n",
       "9     8      125            96             0        0   0.0     0.232   54   \n",
       "\n",
       "   label  \n",
       "0      1  \n",
       "1      0  \n",
       "2      1  \n",
       "3      0  \n",
       "4      1  \n",
       "5      0  \n",
       "6      1  \n",
       "7      0  \n",
       "8      1  \n",
       "9      1  "
      ]
     },
     "execution_count": 131,
     "metadata": {},
     "output_type": "execute_result"
    }
   ],
   "source": [
    "df.head(10)"
   ]
  },
  {
   "cell_type": "code",
   "execution_count": 132,
   "id": "9779135c",
   "metadata": {},
   "outputs": [
    {
     "data": {
      "text/html": [
       "<div>\n",
       "<style scoped>\n",
       "    .dataframe tbody tr th:only-of-type {\n",
       "        vertical-align: middle;\n",
       "    }\n",
       "\n",
       "    .dataframe tbody tr th {\n",
       "        vertical-align: top;\n",
       "    }\n",
       "\n",
       "    .dataframe thead th {\n",
       "        text-align: right;\n",
       "    }\n",
       "</style>\n",
       "<table border=\"1\" class=\"dataframe\">\n",
       "  <thead>\n",
       "    <tr style=\"text-align: right;\">\n",
       "      <th></th>\n",
       "      <th>preg</th>\n",
       "      <th>glucose</th>\n",
       "      <th>bp_diastolic</th>\n",
       "      <th>skin_triceps</th>\n",
       "      <th>insulin</th>\n",
       "      <th>bmi</th>\n",
       "      <th>pedigree</th>\n",
       "      <th>age</th>\n",
       "      <th>label</th>\n",
       "    </tr>\n",
       "  </thead>\n",
       "  <tbody>\n",
       "    <tr>\n",
       "      <th>1531</th>\n",
       "      <td>10</td>\n",
       "      <td>101</td>\n",
       "      <td>76</td>\n",
       "      <td>48</td>\n",
       "      <td>180</td>\n",
       "      <td>32.9</td>\n",
       "      <td>0.171</td>\n",
       "      <td>63</td>\n",
       "      <td>0</td>\n",
       "    </tr>\n",
       "    <tr>\n",
       "      <th>1532</th>\n",
       "      <td>2</td>\n",
       "      <td>122</td>\n",
       "      <td>70</td>\n",
       "      <td>27</td>\n",
       "      <td>0</td>\n",
       "      <td>36.8</td>\n",
       "      <td>0.340</td>\n",
       "      <td>27</td>\n",
       "      <td>0</td>\n",
       "    </tr>\n",
       "    <tr>\n",
       "      <th>1533</th>\n",
       "      <td>5</td>\n",
       "      <td>121</td>\n",
       "      <td>72</td>\n",
       "      <td>23</td>\n",
       "      <td>112</td>\n",
       "      <td>26.2</td>\n",
       "      <td>0.245</td>\n",
       "      <td>30</td>\n",
       "      <td>0</td>\n",
       "    </tr>\n",
       "    <tr>\n",
       "      <th>1534</th>\n",
       "      <td>1</td>\n",
       "      <td>126</td>\n",
       "      <td>60</td>\n",
       "      <td>0</td>\n",
       "      <td>0</td>\n",
       "      <td>30.1</td>\n",
       "      <td>0.349</td>\n",
       "      <td>47</td>\n",
       "      <td>1</td>\n",
       "    </tr>\n",
       "    <tr>\n",
       "      <th>1535</th>\n",
       "      <td>1</td>\n",
       "      <td>93</td>\n",
       "      <td>70</td>\n",
       "      <td>31</td>\n",
       "      <td>0</td>\n",
       "      <td>30.4</td>\n",
       "      <td>0.315</td>\n",
       "      <td>23</td>\n",
       "      <td>0</td>\n",
       "    </tr>\n",
       "  </tbody>\n",
       "</table>\n",
       "</div>"
      ],
      "text/plain": [
       "      preg  glucose  bp_diastolic  skin_triceps  insulin   bmi  pedigree  age  \\\n",
       "1531    10      101            76            48      180  32.9     0.171   63   \n",
       "1532     2      122            70            27        0  36.8     0.340   27   \n",
       "1533     5      121            72            23      112  26.2     0.245   30   \n",
       "1534     1      126            60             0        0  30.1     0.349   47   \n",
       "1535     1       93            70            31        0  30.4     0.315   23   \n",
       "\n",
       "      label  \n",
       "1531      0  \n",
       "1532      0  \n",
       "1533      0  \n",
       "1534      1  \n",
       "1535      0  "
      ]
     },
     "execution_count": 132,
     "metadata": {},
     "output_type": "execute_result"
    }
   ],
   "source": [
    "df.tail()"
   ]
  },
  {
   "cell_type": "code",
   "execution_count": 133,
   "id": "d6f1758b",
   "metadata": {},
   "outputs": [
    {
     "data": {
      "text/plain": [
       "preg              int64\n",
       "glucose           int64\n",
       "bp_diastolic      int64\n",
       "skin_triceps      int64\n",
       "insulin           int64\n",
       "bmi             float64\n",
       "pedigree        float64\n",
       "age               int64\n",
       "label             int64\n",
       "dtype: object"
      ]
     },
     "execution_count": 133,
     "metadata": {},
     "output_type": "execute_result"
    }
   ],
   "source": [
    "df.dtypes"
   ]
  },
  {
   "cell_type": "markdown",
   "id": "07603461",
   "metadata": {},
   "source": [
    "# Descriptive Satistics:"
   ]
  },
  {
   "cell_type": "code",
   "execution_count": 134,
   "id": "6d2daf8c",
   "metadata": {},
   "outputs": [
    {
     "name": "stdout",
     "output_type": "stream",
     "text": [
      "Number of Row in the Dataset: 1536\n",
      "Number of Columns in the Dataset: 9\n"
     ]
    }
   ],
   "source": [
    "print(\"Number of Row in the Dataset:\", df.shape[0])\n",
    "print(\"Number of Columns in the Dataset:\", df.shape[1])"
   ]
  },
  {
   "cell_type": "code",
   "execution_count": 135,
   "id": "c44fb739",
   "metadata": {},
   "outputs": [
    {
     "data": {
      "text/html": [
       "<div>\n",
       "<style scoped>\n",
       "    .dataframe tbody tr th:only-of-type {\n",
       "        vertical-align: middle;\n",
       "    }\n",
       "\n",
       "    .dataframe tbody tr th {\n",
       "        vertical-align: top;\n",
       "    }\n",
       "\n",
       "    .dataframe thead th {\n",
       "        text-align: right;\n",
       "    }\n",
       "</style>\n",
       "<table border=\"1\" class=\"dataframe\">\n",
       "  <thead>\n",
       "    <tr style=\"text-align: right;\">\n",
       "      <th></th>\n",
       "      <th>preg</th>\n",
       "      <th>glucose</th>\n",
       "      <th>bp_diastolic</th>\n",
       "      <th>skin_triceps</th>\n",
       "      <th>insulin</th>\n",
       "      <th>bmi</th>\n",
       "      <th>pedigree</th>\n",
       "      <th>age</th>\n",
       "      <th>label</th>\n",
       "    </tr>\n",
       "  </thead>\n",
       "  <tbody>\n",
       "    <tr>\n",
       "      <th>0</th>\n",
       "      <td>6</td>\n",
       "      <td>148</td>\n",
       "      <td>72</td>\n",
       "      <td>35</td>\n",
       "      <td>0</td>\n",
       "      <td>33.6</td>\n",
       "      <td>0.627</td>\n",
       "      <td>50</td>\n",
       "      <td>1</td>\n",
       "    </tr>\n",
       "    <tr>\n",
       "      <th>1</th>\n",
       "      <td>1</td>\n",
       "      <td>85</td>\n",
       "      <td>66</td>\n",
       "      <td>29</td>\n",
       "      <td>0</td>\n",
       "      <td>26.6</td>\n",
       "      <td>0.351</td>\n",
       "      <td>31</td>\n",
       "      <td>0</td>\n",
       "    </tr>\n",
       "    <tr>\n",
       "      <th>2</th>\n",
       "      <td>8</td>\n",
       "      <td>183</td>\n",
       "      <td>64</td>\n",
       "      <td>0</td>\n",
       "      <td>0</td>\n",
       "      <td>23.3</td>\n",
       "      <td>0.672</td>\n",
       "      <td>32</td>\n",
       "      <td>1</td>\n",
       "    </tr>\n",
       "    <tr>\n",
       "      <th>3</th>\n",
       "      <td>1</td>\n",
       "      <td>89</td>\n",
       "      <td>66</td>\n",
       "      <td>23</td>\n",
       "      <td>94</td>\n",
       "      <td>28.1</td>\n",
       "      <td>0.167</td>\n",
       "      <td>21</td>\n",
       "      <td>0</td>\n",
       "    </tr>\n",
       "    <tr>\n",
       "      <th>4</th>\n",
       "      <td>0</td>\n",
       "      <td>137</td>\n",
       "      <td>40</td>\n",
       "      <td>35</td>\n",
       "      <td>168</td>\n",
       "      <td>43.1</td>\n",
       "      <td>2.288</td>\n",
       "      <td>33</td>\n",
       "      <td>1</td>\n",
       "    </tr>\n",
       "    <tr>\n",
       "      <th>5</th>\n",
       "      <td>5</td>\n",
       "      <td>116</td>\n",
       "      <td>74</td>\n",
       "      <td>0</td>\n",
       "      <td>0</td>\n",
       "      <td>25.6</td>\n",
       "      <td>0.201</td>\n",
       "      <td>30</td>\n",
       "      <td>0</td>\n",
       "    </tr>\n",
       "    <tr>\n",
       "      <th>6</th>\n",
       "      <td>3</td>\n",
       "      <td>78</td>\n",
       "      <td>50</td>\n",
       "      <td>32</td>\n",
       "      <td>88</td>\n",
       "      <td>31.0</td>\n",
       "      <td>0.248</td>\n",
       "      <td>26</td>\n",
       "      <td>1</td>\n",
       "    </tr>\n",
       "    <tr>\n",
       "      <th>7</th>\n",
       "      <td>10</td>\n",
       "      <td>115</td>\n",
       "      <td>0</td>\n",
       "      <td>0</td>\n",
       "      <td>0</td>\n",
       "      <td>35.3</td>\n",
       "      <td>0.134</td>\n",
       "      <td>29</td>\n",
       "      <td>0</td>\n",
       "    </tr>\n",
       "    <tr>\n",
       "      <th>8</th>\n",
       "      <td>2</td>\n",
       "      <td>197</td>\n",
       "      <td>70</td>\n",
       "      <td>45</td>\n",
       "      <td>543</td>\n",
       "      <td>30.5</td>\n",
       "      <td>0.158</td>\n",
       "      <td>53</td>\n",
       "      <td>1</td>\n",
       "    </tr>\n",
       "    <tr>\n",
       "      <th>9</th>\n",
       "      <td>8</td>\n",
       "      <td>125</td>\n",
       "      <td>96</td>\n",
       "      <td>0</td>\n",
       "      <td>0</td>\n",
       "      <td>0.0</td>\n",
       "      <td>0.232</td>\n",
       "      <td>54</td>\n",
       "      <td>1</td>\n",
       "    </tr>\n",
       "  </tbody>\n",
       "</table>\n",
       "</div>"
      ],
      "text/plain": [
       "   preg  glucose  bp_diastolic  skin_triceps  insulin   bmi  pedigree  age  \\\n",
       "0     6      148            72            35        0  33.6     0.627   50   \n",
       "1     1       85            66            29        0  26.6     0.351   31   \n",
       "2     8      183            64             0        0  23.3     0.672   32   \n",
       "3     1       89            66            23       94  28.1     0.167   21   \n",
       "4     0      137            40            35      168  43.1     2.288   33   \n",
       "5     5      116            74             0        0  25.6     0.201   30   \n",
       "6     3       78            50            32       88  31.0     0.248   26   \n",
       "7    10      115             0             0        0  35.3     0.134   29   \n",
       "8     2      197            70            45      543  30.5     0.158   53   \n",
       "9     8      125            96             0        0   0.0     0.232   54   \n",
       "\n",
       "   label  \n",
       "0      1  \n",
       "1      0  \n",
       "2      1  \n",
       "3      0  \n",
       "4      1  \n",
       "5      0  \n",
       "6      1  \n",
       "7      0  \n",
       "8      1  \n",
       "9      1  "
      ]
     },
     "execution_count": 135,
     "metadata": {},
     "output_type": "execute_result"
    }
   ],
   "source": [
    "df.head(10)"
   ]
  },
  {
   "cell_type": "code",
   "execution_count": 136,
   "id": "3b2bac4d",
   "metadata": {},
   "outputs": [
    {
     "data": {
      "text/html": [
       "<div>\n",
       "<style scoped>\n",
       "    .dataframe tbody tr th:only-of-type {\n",
       "        vertical-align: middle;\n",
       "    }\n",
       "\n",
       "    .dataframe tbody tr th {\n",
       "        vertical-align: top;\n",
       "    }\n",
       "\n",
       "    .dataframe thead th {\n",
       "        text-align: right;\n",
       "    }\n",
       "</style>\n",
       "<table border=\"1\" class=\"dataframe\">\n",
       "  <thead>\n",
       "    <tr style=\"text-align: right;\">\n",
       "      <th></th>\n",
       "      <th>preg</th>\n",
       "      <th>glucose</th>\n",
       "      <th>bp_diastolic</th>\n",
       "      <th>skin_triceps</th>\n",
       "      <th>insulin</th>\n",
       "      <th>bmi</th>\n",
       "      <th>pedigree</th>\n",
       "      <th>age</th>\n",
       "      <th>label</th>\n",
       "    </tr>\n",
       "  </thead>\n",
       "  <tbody>\n",
       "    <tr>\n",
       "      <th>1531</th>\n",
       "      <td>10</td>\n",
       "      <td>101</td>\n",
       "      <td>76</td>\n",
       "      <td>48</td>\n",
       "      <td>180</td>\n",
       "      <td>32.9</td>\n",
       "      <td>0.171</td>\n",
       "      <td>63</td>\n",
       "      <td>0</td>\n",
       "    </tr>\n",
       "    <tr>\n",
       "      <th>1532</th>\n",
       "      <td>2</td>\n",
       "      <td>122</td>\n",
       "      <td>70</td>\n",
       "      <td>27</td>\n",
       "      <td>0</td>\n",
       "      <td>36.8</td>\n",
       "      <td>0.340</td>\n",
       "      <td>27</td>\n",
       "      <td>0</td>\n",
       "    </tr>\n",
       "    <tr>\n",
       "      <th>1533</th>\n",
       "      <td>5</td>\n",
       "      <td>121</td>\n",
       "      <td>72</td>\n",
       "      <td>23</td>\n",
       "      <td>112</td>\n",
       "      <td>26.2</td>\n",
       "      <td>0.245</td>\n",
       "      <td>30</td>\n",
       "      <td>0</td>\n",
       "    </tr>\n",
       "    <tr>\n",
       "      <th>1534</th>\n",
       "      <td>1</td>\n",
       "      <td>126</td>\n",
       "      <td>60</td>\n",
       "      <td>0</td>\n",
       "      <td>0</td>\n",
       "      <td>30.1</td>\n",
       "      <td>0.349</td>\n",
       "      <td>47</td>\n",
       "      <td>1</td>\n",
       "    </tr>\n",
       "    <tr>\n",
       "      <th>1535</th>\n",
       "      <td>1</td>\n",
       "      <td>93</td>\n",
       "      <td>70</td>\n",
       "      <td>31</td>\n",
       "      <td>0</td>\n",
       "      <td>30.4</td>\n",
       "      <td>0.315</td>\n",
       "      <td>23</td>\n",
       "      <td>0</td>\n",
       "    </tr>\n",
       "  </tbody>\n",
       "</table>\n",
       "</div>"
      ],
      "text/plain": [
       "      preg  glucose  bp_diastolic  skin_triceps  insulin   bmi  pedigree  age  \\\n",
       "1531    10      101            76            48      180  32.9     0.171   63   \n",
       "1532     2      122            70            27        0  36.8     0.340   27   \n",
       "1533     5      121            72            23      112  26.2     0.245   30   \n",
       "1534     1      126            60             0        0  30.1     0.349   47   \n",
       "1535     1       93            70            31        0  30.4     0.315   23   \n",
       "\n",
       "      label  \n",
       "1531      0  \n",
       "1532      0  \n",
       "1533      0  \n",
       "1534      1  \n",
       "1535      0  "
      ]
     },
     "execution_count": 136,
     "metadata": {},
     "output_type": "execute_result"
    }
   ],
   "source": [
    "df.tail()"
   ]
  },
  {
   "cell_type": "code",
   "execution_count": 137,
   "id": "cdf8c021",
   "metadata": {},
   "outputs": [
    {
     "name": "stdout",
     "output_type": "stream",
     "text": [
      "<class 'pandas.core.frame.DataFrame'>\n",
      "RangeIndex: 1536 entries, 0 to 1535\n",
      "Data columns (total 9 columns):\n",
      " #   Column        Non-Null Count  Dtype  \n",
      "---  ------        --------------  -----  \n",
      " 0   preg          1536 non-null   int64  \n",
      " 1   glucose       1536 non-null   int64  \n",
      " 2   bp_diastolic  1536 non-null   int64  \n",
      " 3   skin_triceps  1536 non-null   int64  \n",
      " 4   insulin       1536 non-null   int64  \n",
      " 5   bmi           1536 non-null   float64\n",
      " 6   pedigree      1536 non-null   float64\n",
      " 7   age           1536 non-null   int64  \n",
      " 8   label         1536 non-null   int64  \n",
      "dtypes: float64(2), int64(7)\n",
      "memory usage: 108.1 KB\n"
     ]
    }
   ],
   "source": [
    "df.info()"
   ]
  },
  {
   "cell_type": "code",
   "execution_count": 138,
   "id": "f6a9abdf",
   "metadata": {},
   "outputs": [
    {
     "data": {
      "text/html": [
       "<div>\n",
       "<style scoped>\n",
       "    .dataframe tbody tr th:only-of-type {\n",
       "        vertical-align: middle;\n",
       "    }\n",
       "\n",
       "    .dataframe tbody tr th {\n",
       "        vertical-align: top;\n",
       "    }\n",
       "\n",
       "    .dataframe thead th {\n",
       "        text-align: right;\n",
       "    }\n",
       "</style>\n",
       "<table border=\"1\" class=\"dataframe\">\n",
       "  <thead>\n",
       "    <tr style=\"text-align: right;\">\n",
       "      <th></th>\n",
       "      <th>count</th>\n",
       "      <th>mean</th>\n",
       "      <th>std</th>\n",
       "      <th>min</th>\n",
       "      <th>25%</th>\n",
       "      <th>50%</th>\n",
       "      <th>75%</th>\n",
       "      <th>max</th>\n",
       "    </tr>\n",
       "  </thead>\n",
       "  <tbody>\n",
       "    <tr>\n",
       "      <th>preg</th>\n",
       "      <td>1536.0</td>\n",
       "      <td>3.845052</td>\n",
       "      <td>3.368480</td>\n",
       "      <td>0.000</td>\n",
       "      <td>1.00000</td>\n",
       "      <td>3.0000</td>\n",
       "      <td>6.00000</td>\n",
       "      <td>17.00</td>\n",
       "    </tr>\n",
       "    <tr>\n",
       "      <th>glucose</th>\n",
       "      <td>1536.0</td>\n",
       "      <td>120.894531</td>\n",
       "      <td>31.962202</td>\n",
       "      <td>0.000</td>\n",
       "      <td>99.00000</td>\n",
       "      <td>117.0000</td>\n",
       "      <td>140.25000</td>\n",
       "      <td>199.00</td>\n",
       "    </tr>\n",
       "    <tr>\n",
       "      <th>bp_diastolic</th>\n",
       "      <td>1536.0</td>\n",
       "      <td>69.105469</td>\n",
       "      <td>19.349501</td>\n",
       "      <td>0.000</td>\n",
       "      <td>62.00000</td>\n",
       "      <td>72.0000</td>\n",
       "      <td>80.00000</td>\n",
       "      <td>122.00</td>\n",
       "    </tr>\n",
       "    <tr>\n",
       "      <th>skin_triceps</th>\n",
       "      <td>1536.0</td>\n",
       "      <td>20.536458</td>\n",
       "      <td>15.947021</td>\n",
       "      <td>0.000</td>\n",
       "      <td>0.00000</td>\n",
       "      <td>23.0000</td>\n",
       "      <td>32.00000</td>\n",
       "      <td>99.00</td>\n",
       "    </tr>\n",
       "    <tr>\n",
       "      <th>insulin</th>\n",
       "      <td>1536.0</td>\n",
       "      <td>79.799479</td>\n",
       "      <td>115.206457</td>\n",
       "      <td>0.000</td>\n",
       "      <td>0.00000</td>\n",
       "      <td>30.5000</td>\n",
       "      <td>127.25000</td>\n",
       "      <td>846.00</td>\n",
       "    </tr>\n",
       "    <tr>\n",
       "      <th>bmi</th>\n",
       "      <td>1536.0</td>\n",
       "      <td>31.992578</td>\n",
       "      <td>7.881592</td>\n",
       "      <td>0.000</td>\n",
       "      <td>27.30000</td>\n",
       "      <td>32.0000</td>\n",
       "      <td>36.60000</td>\n",
       "      <td>67.10</td>\n",
       "    </tr>\n",
       "    <tr>\n",
       "      <th>pedigree</th>\n",
       "      <td>1536.0</td>\n",
       "      <td>0.471876</td>\n",
       "      <td>0.331221</td>\n",
       "      <td>0.078</td>\n",
       "      <td>0.24375</td>\n",
       "      <td>0.3725</td>\n",
       "      <td>0.62625</td>\n",
       "      <td>2.42</td>\n",
       "    </tr>\n",
       "    <tr>\n",
       "      <th>age</th>\n",
       "      <td>1536.0</td>\n",
       "      <td>33.240885</td>\n",
       "      <td>11.756400</td>\n",
       "      <td>21.000</td>\n",
       "      <td>24.00000</td>\n",
       "      <td>29.0000</td>\n",
       "      <td>41.00000</td>\n",
       "      <td>81.00</td>\n",
       "    </tr>\n",
       "    <tr>\n",
       "      <th>label</th>\n",
       "      <td>1536.0</td>\n",
       "      <td>0.348958</td>\n",
       "      <td>0.476796</td>\n",
       "      <td>0.000</td>\n",
       "      <td>0.00000</td>\n",
       "      <td>0.0000</td>\n",
       "      <td>1.00000</td>\n",
       "      <td>1.00</td>\n",
       "    </tr>\n",
       "  </tbody>\n",
       "</table>\n",
       "</div>"
      ],
      "text/plain": [
       "               count        mean         std     min       25%       50%  \\\n",
       "preg          1536.0    3.845052    3.368480   0.000   1.00000    3.0000   \n",
       "glucose       1536.0  120.894531   31.962202   0.000  99.00000  117.0000   \n",
       "bp_diastolic  1536.0   69.105469   19.349501   0.000  62.00000   72.0000   \n",
       "skin_triceps  1536.0   20.536458   15.947021   0.000   0.00000   23.0000   \n",
       "insulin       1536.0   79.799479  115.206457   0.000   0.00000   30.5000   \n",
       "bmi           1536.0   31.992578    7.881592   0.000  27.30000   32.0000   \n",
       "pedigree      1536.0    0.471876    0.331221   0.078   0.24375    0.3725   \n",
       "age           1536.0   33.240885   11.756400  21.000  24.00000   29.0000   \n",
       "label         1536.0    0.348958    0.476796   0.000   0.00000    0.0000   \n",
       "\n",
       "                    75%     max  \n",
       "preg            6.00000   17.00  \n",
       "glucose       140.25000  199.00  \n",
       "bp_diastolic   80.00000  122.00  \n",
       "skin_triceps   32.00000   99.00  \n",
       "insulin       127.25000  846.00  \n",
       "bmi            36.60000   67.10  \n",
       "pedigree        0.62625    2.42  \n",
       "age            41.00000   81.00  \n",
       "label           1.00000    1.00  "
      ]
     },
     "execution_count": 138,
     "metadata": {},
     "output_type": "execute_result"
    }
   ],
   "source": [
    "df.describe().T"
   ]
  },
  {
   "cell_type": "code",
   "execution_count": 139,
   "id": "1a439de1",
   "metadata": {},
   "outputs": [
    {
     "data": {
      "text/plain": [
       "0    500\n",
       "1    268\n",
       "Name: label, dtype: int64"
      ]
     },
     "execution_count": 139,
     "metadata": {},
     "output_type": "execute_result"
    }
   ],
   "source": [
    "#check label value count \n",
    "data.label.value_counts()"
   ]
  },
  {
   "cell_type": "markdown",
   "id": "1275451f",
   "metadata": {},
   "source": [
    "# Missing Values:"
   ]
  },
  {
   "cell_type": "code",
   "execution_count": 140,
   "id": "6f4be7ba",
   "metadata": {},
   "outputs": [
    {
     "data": {
      "text/plain": [
       "preg            0\n",
       "glucose         0\n",
       "bp_diastolic    0\n",
       "skin_triceps    0\n",
       "insulin         0\n",
       "bmi             0\n",
       "pedigree        0\n",
       "age             0\n",
       "label           0\n",
       "dtype: int64"
      ]
     },
     "execution_count": 140,
     "metadata": {},
     "output_type": "execute_result"
    }
   ],
   "source": [
    "df.isnull().sum()"
   ]
  },
  {
   "cell_type": "code",
   "execution_count": 141,
   "id": "d9267e00",
   "metadata": {},
   "outputs": [
    {
     "name": "stdout",
     "output_type": "stream",
     "text": [
      "preg\n",
      "False    1536\n",
      "Name: preg, dtype: int64\n",
      "\n",
      "glucose\n",
      "False    1536\n",
      "Name: glucose, dtype: int64\n",
      "\n",
      "bp_diastolic\n",
      "False    1536\n",
      "Name: bp_diastolic, dtype: int64\n",
      "\n",
      "skin_triceps\n",
      "False    1536\n",
      "Name: skin_triceps, dtype: int64\n",
      "\n",
      "insulin\n",
      "False    1536\n",
      "Name: insulin, dtype: int64\n",
      "\n",
      "bmi\n",
      "False    1536\n",
      "Name: bmi, dtype: int64\n",
      "\n",
      "pedigree\n",
      "False    1536\n",
      "Name: pedigree, dtype: int64\n",
      "\n",
      "age\n",
      "False    1536\n",
      "Name: age, dtype: int64\n",
      "\n",
      "label\n",
      "False    1536\n",
      "Name: label, dtype: int64\n",
      "\n"
     ]
    }
   ],
   "source": [
    "#check missing Values in the Dataset\n",
    "missing_data=df.isnull()\n",
    "for column in missing_data.columns.values.tolist():\n",
    "    print(column)\n",
    "    print(missing_data[column].value_counts())\n",
    "    print(\"\")"
   ]
  },
  {
   "cell_type": "markdown",
   "id": "8ef0346d",
   "metadata": {},
   "source": [
    "No missing values found in the dataset, therefore data doesn't need to be drop or replace. "
   ]
  },
  {
   "cell_type": "markdown",
   "id": "a61654c0",
   "metadata": {},
   "source": [
    "# Outliers Analysis"
   ]
  },
  {
   "cell_type": "code",
   "execution_count": 142,
   "id": "431629de",
   "metadata": {},
   "outputs": [
    {
     "data": {
      "image/png": "[encoded data removed]",
      "text/plain": [
       "<Figure size 1400x600 with 1 Axes>"
      ]
     },
     "metadata": {},
     "output_type": "display_data"
    }
   ],
   "source": [
    "def show_boxplot(df):\n",
    "    plt.rcParams['figure.figsize'] = [14,6]\n",
    "    sns.boxplot(data = df, orient=\"v\")\n",
    "    plt.title(\"Outliers Distribution\", fontsize = 16)\n",
    "    plt.ylabel(\"Range\", fontweight = 'bold')\n",
    "    plt.xlabel(\"Attributes\", fontweight = 'bold')\n",
    "show_boxplot(df)"
   ]
  },
  {
   "cell_type": "code",
   "execution_count": 181,
   "id": "29184327",
   "metadata": {},
   "outputs": [
    {
     "data": {
      "image/png": "[encoded data removed]",
      "text/plain": [
       "<Figure size 1400x600 with 1 Axes>"
      ]
     },
     "metadata": {},
     "output_type": "display_data"
    }
   ],
   "source": [
    "#Function 1st time\n",
    "def remove_outliers(data):\n",
    "   \n",
    "    df = data.copy()\n",
    "\n",
    "    for col in list(df.columns):\n",
    "        Q1 = df[str(col)].quantile(0.25)\n",
    "        Q3 = df[str(col)].quantile(0.75)\n",
    "        IQR = Q3 - Q1\n",
    "        # Define the lower and upper bounds to filter outliers\n",
    "        lower_bound = Q1 - 1.5 * IQR\n",
    "        upper_bound = Q3 + 1.5 * IQR\n",
    "\n",
    "        df = df[(df[str(col)] >= lower_bound) & (df[str(col)] <= upper_bound)]\n",
    "\n",
    "    return df\n",
    "without_outliers = remove_outliers(df)\n",
    "show_boxplot(without_outliers)"
   ]
  },
  {
   "cell_type": "markdown",
   "id": "0f1aa349",
   "metadata": {},
   "source": [
    "NOTE: Outliers completely removed, after function has been run two to three times. "
   ]
  },
  {
   "cell_type": "code",
   "execution_count": 182,
   "id": "99df365c",
   "metadata": {},
   "outputs": [],
   "source": [
    "df=without_outliers"
   ]
  },
  {
   "cell_type": "code",
   "execution_count": 183,
   "id": "dd19ff79",
   "metadata": {},
   "outputs": [
    {
     "data": {
      "image/png": "[encoded data removed]",
      "text/plain": [
       "<Figure size 1500x1000 with 9 Axes>"
      ]
     },
     "metadata": {},
     "output_type": "display_data"
    }
   ],
   "source": [
    "# Distribution of numerical features\n",
    "df.hist(bins=20, figsize=(15, 10))\n",
    "plt.suptitle('Distribution of Numerical Features')\n",
    "plt.show()"
   ]
  },
  {
   "cell_type": "markdown",
   "id": "90b4d2ec",
   "metadata": {},
   "source": [
    "# HeatMap"
   ]
  },
  {
   "cell_type": "code",
   "execution_count": 184,
   "id": "5b399feb",
   "metadata": {},
   "outputs": [
    {
     "data": {
      "image/png": "[encoded data removed]",
      "text/plain": [
       "<Figure size 600x600 with 2 Axes>"
      ]
     },
     "metadata": {},
     "output_type": "display_data"
    }
   ],
   "source": [
    "#get correlations of each features in dataset\n",
    "corrmat = df.corr()\n",
    "top_corr_features = corrmat.index\n",
    "plt.figure(figsize=(6,6))\n",
    "#plot heat map\n",
    "sns.heatmap(df[top_corr_features].corr(),annot=True,cmap=\"RdYlBu\", annot_kws={\"fontsize\": 8});"
   ]
  },
  {
   "cell_type": "raw",
   "id": "e3fc708e",
   "metadata": {},
   "source": [
    "# Pair plot\n",
    "sns.pairplot(df, hue='label')\n",
    "plt.suptitle('Pair Plot of Features')\n",
    "plt.show()"
   ]
  },
  {
   "cell_type": "code",
   "execution_count": 186,
   "id": "6cde5fac",
   "metadata": {},
   "outputs": [
    {
     "data": {
      "image/png": "[encoded data removed]",
      "text/plain": [
       "<Figure size 1500x1000 with 1 Axes>"
      ]
     },
     "metadata": {},
     "output_type": "display_data"
    }
   ],
   "source": [
    "# Box plots for numerical features\n",
    "plt.figure(figsize=(15, 10))\n",
    "df.boxplot()\n",
    "plt.title('Box Plots for Numerical Features')\n",
    "plt.show()"
   ]
  },
  {
   "cell_type": "code",
   "execution_count": 187,
   "id": "bf0d6c16",
   "metadata": {},
   "outputs": [
    {
     "data": {
      "image/png": "[encoded data removed]",
      "text/plain": [
       "<Figure size 1400x600 with 1 Axes>"
      ]
     },
     "metadata": {},
     "output_type": "display_data"
    }
   ],
   "source": [
    "# Distribution of categorical features\n",
    "sns.countplot(x='preg', data=df)\n",
    "plt.title('Distribution of Pregnancies')\n",
    "plt.show()"
   ]
  },
  {
   "cell_type": "code",
   "execution_count": 188,
   "id": "0d3867c4",
   "metadata": {},
   "outputs": [
    {
     "name": "stdout",
     "output_type": "stream",
     "text": [
      "1122\n",
      "9\n"
     ]
    }
   ],
   "source": [
    "print(df.shape[0])\n",
    "print(df.shape[1])"
   ]
  },
  {
   "cell_type": "code",
   "execution_count": 189,
   "id": "e7d5ff74",
   "metadata": {},
   "outputs": [
    {
     "data": {
      "text/plain": [
       "0    816\n",
       "1    306\n",
       "Name: label, dtype: int64"
      ]
     },
     "execution_count": 189,
     "metadata": {},
     "output_type": "execute_result"
    }
   ],
   "source": [
    "df.label.value_counts()"
   ]
  },
  {
   "cell_type": "code",
   "execution_count": 190,
   "id": "00249505",
   "metadata": {},
   "outputs": [
    {
     "data": {
      "text/plain": [
       "Index(['preg', 'glucose', 'bp_diastolic', 'skin_triceps', 'insulin', 'bmi',\n",
       "       'pedigree', 'age', 'label'],\n",
       "      dtype='object')"
      ]
     },
     "execution_count": 190,
     "metadata": {},
     "output_type": "execute_result"
    }
   ],
   "source": [
    "df.columns"
   ]
  },
  {
   "cell_type": "code",
   "execution_count": 191,
   "id": "b49f14f8",
   "metadata": {},
   "outputs": [
    {
     "data": {
      "text/plain": [
       "['preg',\n",
       " 'glucose',\n",
       " 'bp_diastolic',\n",
       " 'skin_triceps',\n",
       " 'insulin',\n",
       " 'bmi',\n",
       " 'pedigree',\n",
       " 'age',\n",
       " 'label']"
      ]
     },
     "execution_count": 191,
     "metadata": {},
     "output_type": "execute_result"
    }
   ],
   "source": [
    "cols=list(df.columns)\n",
    "cols"
   ]
  },
  {
   "cell_type": "code",
   "execution_count": 192,
   "id": "8ec073a4",
   "metadata": {},
   "outputs": [
    {
     "data": {
      "text/plain": [
       "(1122, 9)"
      ]
     },
     "execution_count": 192,
     "metadata": {},
     "output_type": "execute_result"
    }
   ],
   "source": [
    "df.shape"
   ]
  },
  {
   "cell_type": "code",
   "execution_count": 193,
   "id": "88ea7cfe",
   "metadata": {},
   "outputs": [
    {
     "name": "stdout",
     "output_type": "stream",
     "text": [
      "['preg', 'glucose', 'bp_diastolic', 'skin_triceps', 'insulin', 'bmi', 'pedigree', 'age']\n"
     ]
    }
   ],
   "source": [
    "feature_cols=cols[0:8]\n",
    "print(feature_cols)"
   ]
  },
  {
   "cell_type": "code",
   "execution_count": 194,
   "id": "5877b4da",
   "metadata": {},
   "outputs": [
    {
     "name": "stdout",
     "output_type": "stream",
     "text": [
      "['preg', 'glucose', 'bp_diastolic', 'skin_triceps', 'insulin', 'bmi', 'pedigree', 'age']\n"
     ]
    }
   ],
   "source": [
    "feature_cols=['preg', 'glucose', 'bp_diastolic', 'skin_triceps', 'insulin', 'bmi', 'pedigree', 'age']\n",
    "print(feature_cols)"
   ]
  },
  {
   "cell_type": "markdown",
   "id": "a82031f3",
   "metadata": {},
   "source": [
    "# Data Train-Test split"
   ]
  },
  {
   "cell_type": "code",
   "execution_count": 195,
   "id": "99caf3c4",
   "metadata": {},
   "outputs": [],
   "source": [
    "#Library Call for data split in two portion Train and Test: \n",
    "from sklearn.model_selection import train_test_split"
   ]
  },
  {
   "cell_type": "code",
   "execution_count": 196,
   "id": "86162ac0",
   "metadata": {},
   "outputs": [],
   "source": [
    "#dataframe\n",
    "x=df[feature_cols]  #feature\n",
    "#series\n",
    "y=df.label\n",
    "x_train, x_test, y_train, y_test = train_test_split(x, y, test_size =0.25, random_state=30)"
   ]
  },
  {
   "cell_type": "code",
   "execution_count": 197,
   "id": "eda346df",
   "metadata": {},
   "outputs": [
    {
     "name": "stdout",
     "output_type": "stream",
     "text": [
      "[XY_Train] dataset Shape: (841, 8)\n",
      "[XY_Test] dataset Shape: (281, 8)\n"
     ]
    }
   ],
   "source": [
    "#Total size of the Training dataset:\n",
    "print(\"[XY_Train] dataset Shape:\", x_train.shape)\n",
    "\n",
    "#Total size of the Testing dataset:\n",
    "print(\"[XY_Test] dataset Shape:\", x_test.shape)"
   ]
  },
  {
   "cell_type": "code",
   "execution_count": 198,
   "id": "2a005b31",
   "metadata": {},
   "outputs": [
    {
     "name": "stdout",
     "output_type": "stream",
     "text": [
      "Total Number of 0's in Label: 816\n"
     ]
    }
   ],
   "source": [
    "#get total number of 0 in the actual dataset\n",
    "count0=df[\"label\"][df.label==0].count()\n",
    "print(\"Total Number of 0's in Label:\", count0)"
   ]
  },
  {
   "cell_type": "code",
   "execution_count": 199,
   "id": "74b1c735",
   "metadata": {},
   "outputs": [
    {
     "name": "stdout",
     "output_type": "stream",
     "text": [
      "Total Number of 1's in Label: 306\n"
     ]
    }
   ],
   "source": [
    "#get total number of 1 in the actual dataset\n",
    "count1=df[\"label\"][df.label==1].count()\n",
    "print(\"Total Number of 1's in Label:\", count1)"
   ]
  },
  {
   "cell_type": "code",
   "execution_count": 200,
   "id": "da53c098",
   "metadata": {},
   "outputs": [
    {
     "name": "stdout",
     "output_type": "stream",
     "text": [
      "[Y_Train] Total number of [0] in dataset : 610\n",
      "[Y_Train] Total number of [1] in dataset : 231\n"
     ]
    }
   ],
   "source": [
    "#Checking the number of 0's in Training portion of the Dataset:\n",
    "print(\"[Y_Train] Total number of [0] in dataset :\", len(y_train[y_train==0]))\n",
    "\n",
    "#Checking the number of 1's in Training portion of the Dataset:\n",
    "print(\"[Y_Train] Total number of [1] in dataset :\", len(y_train[y_train==1]))"
   ]
  },
  {
   "cell_type": "code",
   "execution_count": 201,
   "id": "21dafd71",
   "metadata": {},
   "outputs": [
    {
     "name": "stdout",
     "output_type": "stream",
     "text": [
      "[Y_Test] Total number of [0] in dataset : 206\n",
      "[Y_Test] Total number of [1] in dataset : 75\n"
     ]
    }
   ],
   "source": [
    "#Checking the number of 0's in Testing portion of the Dataset:\n",
    "print(\"[Y_Test] Total number of [0] in dataset :\", len(y_test[y_test==0]))\n",
    "\n",
    "#Checking the number of 1's in Testing portion of the Dataset:\n",
    "print(\"[Y_Test] Total number of [1] in dataset :\", len(y_test[y_test==1]))"
   ]
  },
  {
   "cell_type": "code",
   "execution_count": 202,
   "id": "502c7b61",
   "metadata": {},
   "outputs": [
    {
     "data": {
      "image/png": "[encoded data removed]",
      "text/plain": [
       "<Figure size 400x400 with 1 Axes>"
      ]
     },
     "metadata": {},
     "output_type": "display_data"
    }
   ],
   "source": [
    "# get total number of 0 in the training dataset\n",
    "Trcount0 = y_train[y_train==0].count()\n",
    "\n",
    "# get total number of 1 in the training dataset\n",
    "Trcount1 = y_train[y_train==1].count()\n",
    "\n",
    "# Plotting the bar chart\n",
    "label = ['0', '1']\n",
    "counts = [Trcount0, Trcount1]\n",
    "\n",
    "plt.figure(figsize=(4,4))\n",
    "plt.title('Counts of 0 and 1 in Training Dataset')\n",
    "plt.bar(label, counts)\n",
    "\n",
    "# Add annotations to the bars\n",
    "for i, count in enumerate(counts):\n",
    "    plt.text(i, count, str(count), ha='center', va='bottom')\n",
    "   \n",
    "plt.show()"
   ]
  },
  {
   "cell_type": "code",
   "execution_count": 203,
   "id": "44505983",
   "metadata": {},
   "outputs": [
    {
     "data": {
      "image/png": "[encoded data removed]",
      "text/plain": [
       "<Figure size 400x400 with 1 Axes>"
      ]
     },
     "metadata": {},
     "output_type": "display_data"
    }
   ],
   "source": [
    "# get total number of 0 in the testing dataset\n",
    "Trcount0 = y_test[y_test==0].count()\n",
    "\n",
    "# get total number of 1 in the testing dataset\n",
    "Trcount1 = y_test[y_test==1].count()\n",
    "\n",
    "# Plotting the bar chart\n",
    "label = ['0', '1']\n",
    "counts = [Trcount0, Trcount1]\n",
    "\n",
    "plt.figure(figsize=(4,4))\n",
    "plt.title('Counts of 0 and 1 in Testing Dataset')\n",
    "plt.bar(label, counts)\n",
    "\n",
    "# Add annotations to the bars\n",
    "for i, count in enumerate(counts):\n",
    "    plt.text(i, count, str(count), ha='center', va='bottom')\n",
    "   \n",
    "plt.show()"
   ]
  },
  {
   "cell_type": "markdown",
   "id": "fe06c426",
   "metadata": {},
   "source": [
    "# KNeighbour Library call"
   ]
  },
  {
   "cell_type": "code",
   "execution_count": 1,
   "id": "ea1a1b57",
   "metadata": {},
   "outputs": [],
   "source": [
    "ffrom sklearn.neighbors import KNeighborsClassifier\n",
    "\n",
    "clf= KNeighborsClassifier(n_neighbors=3)"
   ]
  },
  {
   "cell_type": "code",
   "execution_count": 206,
   "id": "b5326fb1",
   "metadata": {},
   "outputs": [],
   "source": [
    "# Train Classifer\n",
    "model = clf.fit(x_train, y_train)"
   ]
  },
  {
   "cell_type": "markdown",
   "id": "7e99a0e5",
   "metadata": {},
   "source": [
    "# Model"
   ]
  },
  {
   "cell_type": "code",
   "execution_count": 207,
   "id": "ef5b7d69",
   "metadata": {},
   "outputs": [],
   "source": [
    "#Predict the response for test dataset\n",
    "y_pred = clf.predict(x_test)"
   ]
  },
  {
   "cell_type": "code",
   "execution_count": 208,
   "id": "a9362cae",
   "metadata": {},
   "outputs": [
    {
     "data": {
      "text/html": [
       "<div>\n",
       "<style scoped>\n",
       "    .dataframe tbody tr th:only-of-type {\n",
       "        vertical-align: middle;\n",
       "    }\n",
       "\n",
       "    .dataframe tbody tr th {\n",
       "        vertical-align: top;\n",
       "    }\n",
       "\n",
       "    .dataframe thead th {\n",
       "        text-align: right;\n",
       "    }\n",
       "</style>\n",
       "<table border=\"1\" class=\"dataframe\">\n",
       "  <thead>\n",
       "    <tr style=\"text-align: right;\">\n",
       "      <th></th>\n",
       "      <th>Origional</th>\n",
       "      <th>Predicted</th>\n",
       "    </tr>\n",
       "  </thead>\n",
       "  <tbody>\n",
       "    <tr>\n",
       "      <th>577</th>\n",
       "      <td>1</td>\n",
       "      <td>0</td>\n",
       "    </tr>\n",
       "    <tr>\n",
       "      <th>1453</th>\n",
       "      <td>0</td>\n",
       "      <td>0</td>\n",
       "    </tr>\n",
       "    <tr>\n",
       "      <th>1391</th>\n",
       "      <td>0</td>\n",
       "      <td>0</td>\n",
       "    </tr>\n",
       "    <tr>\n",
       "      <th>333</th>\n",
       "      <td>0</td>\n",
       "      <td>0</td>\n",
       "    </tr>\n",
       "    <tr>\n",
       "      <th>930</th>\n",
       "      <td>0</td>\n",
       "      <td>0</td>\n",
       "    </tr>\n",
       "  </tbody>\n",
       "</table>\n",
       "</div>"
      ],
      "text/plain": [
       "      Origional  Predicted\n",
       "577           1          0\n",
       "1453          0          0\n",
       "1391          0          0\n",
       "333           0          0\n",
       "930           0          0"
      ]
     },
     "execution_count": 208,
     "metadata": {},
     "output_type": "execute_result"
    }
   ],
   "source": [
    "y=pd.DataFrame({\"Origional\": y_test, \"Predicted\": y_pred})\n",
    "y.head()"
   ]
  },
  {
   "cell_type": "code",
   "execution_count": 209,
   "id": "65e51bc9",
   "metadata": {},
   "outputs": [
    {
     "data": {
      "text/html": [
       "<div>\n",
       "<style scoped>\n",
       "    .dataframe tbody tr th:only-of-type {\n",
       "        vertical-align: middle;\n",
       "    }\n",
       "\n",
       "    .dataframe tbody tr th {\n",
       "        vertical-align: top;\n",
       "    }\n",
       "\n",
       "    .dataframe thead th {\n",
       "        text-align: right;\n",
       "    }\n",
       "</style>\n",
       "<table border=\"1\" class=\"dataframe\">\n",
       "  <thead>\n",
       "    <tr style=\"text-align: right;\">\n",
       "      <th></th>\n",
       "      <th>Origional</th>\n",
       "      <th>Predicted</th>\n",
       "    </tr>\n",
       "  </thead>\n",
       "  <tbody>\n",
       "    <tr>\n",
       "      <th>871</th>\n",
       "      <td>0</td>\n",
       "      <td>0</td>\n",
       "    </tr>\n",
       "    <tr>\n",
       "      <th>1174</th>\n",
       "      <td>1</td>\n",
       "      <td>0</td>\n",
       "    </tr>\n",
       "    <tr>\n",
       "      <th>244</th>\n",
       "      <td>0</td>\n",
       "      <td>0</td>\n",
       "    </tr>\n",
       "    <tr>\n",
       "      <th>307</th>\n",
       "      <td>0</td>\n",
       "      <td>0</td>\n",
       "    </tr>\n",
       "    <tr>\n",
       "      <th>1211</th>\n",
       "      <td>1</td>\n",
       "      <td>0</td>\n",
       "    </tr>\n",
       "    <tr>\n",
       "      <th>1092</th>\n",
       "      <td>0</td>\n",
       "      <td>0</td>\n",
       "    </tr>\n",
       "    <tr>\n",
       "      <th>1325</th>\n",
       "      <td>0</td>\n",
       "      <td>0</td>\n",
       "    </tr>\n",
       "    <tr>\n",
       "      <th>74</th>\n",
       "      <td>0</td>\n",
       "      <td>0</td>\n",
       "    </tr>\n",
       "    <tr>\n",
       "      <th>271</th>\n",
       "      <td>0</td>\n",
       "      <td>0</td>\n",
       "    </tr>\n",
       "    <tr>\n",
       "      <th>609</th>\n",
       "      <td>0</td>\n",
       "      <td>0</td>\n",
       "    </tr>\n",
       "  </tbody>\n",
       "</table>\n",
       "</div>"
      ],
      "text/plain": [
       "      Origional  Predicted\n",
       "871           0          0\n",
       "1174          1          0\n",
       "244           0          0\n",
       "307           0          0\n",
       "1211          1          0\n",
       "1092          0          0\n",
       "1325          0          0\n",
       "74            0          0\n",
       "271           0          0\n",
       "609           0          0"
      ]
     },
     "execution_count": 209,
     "metadata": {},
     "output_type": "execute_result"
    }
   ],
   "source": [
    "y.sample(10)"
   ]
  },
  {
   "cell_type": "markdown",
   "id": "ac195a36",
   "metadata": {},
   "source": [
    "# Confusion Matrics"
   ]
  },
  {
   "cell_type": "code",
   "execution_count": 212,
   "id": "0bc5528e",
   "metadata": {},
   "outputs": [
    {
     "name": "stdout",
     "output_type": "stream",
     "text": [
      "Confusion Matrix:\n",
      "[[202   4]\n",
      " [ 45  30]]\n"
     ]
    },
    {
     "data": {
      "image/png": "[encoded data removed]",
      "text/plain": [
       "<Figure size 400x400 with 2 Axes>"
      ]
     },
     "metadata": {},
     "output_type": "display_data"
    }
   ],
   "source": [
    "# calculate accuracy\n",
    "from sklearn import metrics\n",
    "\n",
    "result = metrics.confusion_matrix(y_test, y_pred)\n",
    "print(\"Confusion Matrix:\")\n",
    "print(result)\n",
    "\n",
    "def plt1():\n",
    "    import seaborn as sns; sns.set()\n",
    "    plt.figure(figsize=(4,4))\n",
    "    c_mtrx = pd.crosstab(y_test, y_pred, rownames=['Actual'], colnames=['Predicted'])\n",
    "    sns.heatmap(c_mtrx, annot=True, fmt = '.3g')\n",
    "\n",
    "plt1()"
   ]
  },
  {
   "cell_type": "markdown",
   "id": "658203d9",
   "metadata": {},
   "source": [
    "# Accuracy Calculation"
   ]
  },
  {
   "cell_type": "code",
   "execution_count": 213,
   "id": "f387e671",
   "metadata": {},
   "outputs": [],
   "source": [
    "#[row, column]\n",
    "#(Actual, Predict)\n",
    "TP = result[1, 1]      \n",
    "TN = result[0, 0]\n",
    "FP = result[0, 1]\n",
    "FN = result[1, 0]"
   ]
  },
  {
   "cell_type": "code",
   "execution_count": 214,
   "id": "63e65cd2",
   "metadata": {},
   "outputs": [
    {
     "name": "stdout",
     "output_type": "stream",
     "text": [
      "Metrics computed from a confusion matrix\n",
      "Accuracy:\t 0.8256227758007118\n",
      "Sensitivity:\t 0.4\n",
      "Specificity:\t 0.9805825242718447\n",
      "Precision:\t 0.8823529411764706\n",
      "Classification Eerror: 0.17437722419928825\n",
      "False_Positive_Rate: 0.01941747572815533\n",
      "###########################################\n"
     ]
    }
   ],
   "source": [
    "def EvClsMdl(res):\n",
    "    print('Metrics computed from a confusion matrix')\n",
    "    print(\"Accuracy:\\t\", metrics.accuracy_score(y_test, y_pred))\n",
    "    print(\"Sensitivity:\\t\", metrics.recall_score(y_test, y_pred))\n",
    "    print(\"Specificity:\\t\",TN / (TN + FP))\n",
    "    print(\"Precision:\\t\", metrics.precision_score(y_test, y_pred))\n",
    "    print(\"Classification Eerror:\", 1 - metrics.accuracy_score(y_test, y_pred))\n",
    "    print(\"False_Positive_Rate:\", 1 - TN / (TN + FP))\n",
    "    print('###########################################')\n",
    "EvClsMdl(result)"
   ]
  }
 ],
 "metadata": {
  "kernelspec": {
   "display_name": "Python 3 (ipykernel)",
   "language": "python",
   "name": "python3"
  },
  "language_info": {
   "codemirror_mode": {
    "name": "ipython",
    "version": 3
   },
   "file_extension": ".py",
   "mimetype": "text/x-python",
   "name": "python",
   "nbconvert_exporter": "python",
   "pygments_lexer": "ipython3",
   "version": "3.10.9"
  }
 },
 "nbformat": 4,
 "nbformat_minor": 5
}
