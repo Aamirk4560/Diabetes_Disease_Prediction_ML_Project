{
 "cells": [
  {
   "cell_type": "markdown",
   "id": "47508afe",
   "metadata": {},
   "source": [
    "# TTDS: Machine Learning project "
   ]
  },
  {
   "cell_type": "markdown",
   "id": "1ae8cf68",
   "metadata": {},
   "source": [
    "# Accuracy Improved Random Forest Algorithm"
   ]
  },
  {
   "cell_type": "code",
   "execution_count": 1,
   "id": "683f3bf7",
   "metadata": {},
   "outputs": [],
   "source": [
    "import pandas as pd\n",
    "import numpy as np\n",
    "import seaborn as sns\n",
    "import matplotlib as plt\n",
    "from matplotlib import pyplot \n",
    "import matplotlib.pyplot as plt"
   ]
  },
  {
   "cell_type": "code",
   "execution_count": 2,
   "id": "37d7cab2",
   "metadata": {},
   "outputs": [],
   "source": [
    "data=pd.read_csv(\"D:/DataSets/diabetes.csv\")"
   ]
  },
  {
   "cell_type": "code",
   "execution_count": 3,
   "id": "db0ded7a",
   "metadata": {},
   "outputs": [
    {
     "data": {
      "text/html": [
       "<div>\n",
       "<style scoped>\n",
       "    .dataframe tbody tr th:only-of-type {\n",
       "        vertical-align: middle;\n",
       "    }\n",
       "\n",
       "    .dataframe tbody tr th {\n",
       "        vertical-align: top;\n",
       "    }\n",
       "\n",
       "    .dataframe thead th {\n",
       "        text-align: right;\n",
       "    }\n",
       "</style>\n",
       "<table border=\"1\" class=\"dataframe\">\n",
       "  <thead>\n",
       "    <tr style=\"text-align: right;\">\n",
       "      <th></th>\n",
       "      <th>preg</th>\n",
       "      <th>glucose</th>\n",
       "      <th>bp_diastolic</th>\n",
       "      <th>skin_triceps</th>\n",
       "      <th>insulin</th>\n",
       "      <th>bmi</th>\n",
       "      <th>pedigree</th>\n",
       "      <th>age</th>\n",
       "      <th>label</th>\n",
       "    </tr>\n",
       "  </thead>\n",
       "  <tbody>\n",
       "    <tr>\n",
       "      <th>0</th>\n",
       "      <td>6</td>\n",
       "      <td>148</td>\n",
       "      <td>72</td>\n",
       "      <td>35</td>\n",
       "      <td>0</td>\n",
       "      <td>33.6</td>\n",
       "      <td>0.627</td>\n",
       "      <td>50</td>\n",
       "      <td>1</td>\n",
       "    </tr>\n",
       "    <tr>\n",
       "      <th>1</th>\n",
       "      <td>1</td>\n",
       "      <td>85</td>\n",
       "      <td>66</td>\n",
       "      <td>29</td>\n",
       "      <td>0</td>\n",
       "      <td>26.6</td>\n",
       "      <td>0.351</td>\n",
       "      <td>31</td>\n",
       "      <td>0</td>\n",
       "    </tr>\n",
       "    <tr>\n",
       "      <th>2</th>\n",
       "      <td>8</td>\n",
       "      <td>183</td>\n",
       "      <td>64</td>\n",
       "      <td>0</td>\n",
       "      <td>0</td>\n",
       "      <td>23.3</td>\n",
       "      <td>0.672</td>\n",
       "      <td>32</td>\n",
       "      <td>1</td>\n",
       "    </tr>\n",
       "    <tr>\n",
       "      <th>3</th>\n",
       "      <td>1</td>\n",
       "      <td>89</td>\n",
       "      <td>66</td>\n",
       "      <td>23</td>\n",
       "      <td>94</td>\n",
       "      <td>28.1</td>\n",
       "      <td>0.167</td>\n",
       "      <td>21</td>\n",
       "      <td>0</td>\n",
       "    </tr>\n",
       "    <tr>\n",
       "      <th>4</th>\n",
       "      <td>0</td>\n",
       "      <td>137</td>\n",
       "      <td>40</td>\n",
       "      <td>35</td>\n",
       "      <td>168</td>\n",
       "      <td>43.1</td>\n",
       "      <td>2.288</td>\n",
       "      <td>33</td>\n",
       "      <td>1</td>\n",
       "    </tr>\n",
       "    <tr>\n",
       "      <th>...</th>\n",
       "      <td>...</td>\n",
       "      <td>...</td>\n",
       "      <td>...</td>\n",
       "      <td>...</td>\n",
       "      <td>...</td>\n",
       "      <td>...</td>\n",
       "      <td>...</td>\n",
       "      <td>...</td>\n",
       "      <td>...</td>\n",
       "    </tr>\n",
       "    <tr>\n",
       "      <th>763</th>\n",
       "      <td>10</td>\n",
       "      <td>101</td>\n",
       "      <td>76</td>\n",
       "      <td>48</td>\n",
       "      <td>180</td>\n",
       "      <td>32.9</td>\n",
       "      <td>0.171</td>\n",
       "      <td>63</td>\n",
       "      <td>0</td>\n",
       "    </tr>\n",
       "    <tr>\n",
       "      <th>764</th>\n",
       "      <td>2</td>\n",
       "      <td>122</td>\n",
       "      <td>70</td>\n",
       "      <td>27</td>\n",
       "      <td>0</td>\n",
       "      <td>36.8</td>\n",
       "      <td>0.340</td>\n",
       "      <td>27</td>\n",
       "      <td>0</td>\n",
       "    </tr>\n",
       "    <tr>\n",
       "      <th>765</th>\n",
       "      <td>5</td>\n",
       "      <td>121</td>\n",
       "      <td>72</td>\n",
       "      <td>23</td>\n",
       "      <td>112</td>\n",
       "      <td>26.2</td>\n",
       "      <td>0.245</td>\n",
       "      <td>30</td>\n",
       "      <td>0</td>\n",
       "    </tr>\n",
       "    <tr>\n",
       "      <th>766</th>\n",
       "      <td>1</td>\n",
       "      <td>126</td>\n",
       "      <td>60</td>\n",
       "      <td>0</td>\n",
       "      <td>0</td>\n",
       "      <td>30.1</td>\n",
       "      <td>0.349</td>\n",
       "      <td>47</td>\n",
       "      <td>1</td>\n",
       "    </tr>\n",
       "    <tr>\n",
       "      <th>767</th>\n",
       "      <td>1</td>\n",
       "      <td>93</td>\n",
       "      <td>70</td>\n",
       "      <td>31</td>\n",
       "      <td>0</td>\n",
       "      <td>30.4</td>\n",
       "      <td>0.315</td>\n",
       "      <td>23</td>\n",
       "      <td>0</td>\n",
       "    </tr>\n",
       "  </tbody>\n",
       "</table>\n",
       "<p>768 rows × 9 columns</p>\n",
       "</div>"
      ],
      "text/plain": [
       "     preg  glucose  bp_diastolic  skin_triceps  insulin   bmi  pedigree  age  \\\n",
       "0       6      148            72            35        0  33.6     0.627   50   \n",
       "1       1       85            66            29        0  26.6     0.351   31   \n",
       "2       8      183            64             0        0  23.3     0.672   32   \n",
       "3       1       89            66            23       94  28.1     0.167   21   \n",
       "4       0      137            40            35      168  43.1     2.288   33   \n",
       "..    ...      ...           ...           ...      ...   ...       ...  ...   \n",
       "763    10      101            76            48      180  32.9     0.171   63   \n",
       "764     2      122            70            27        0  36.8     0.340   27   \n",
       "765     5      121            72            23      112  26.2     0.245   30   \n",
       "766     1      126            60             0        0  30.1     0.349   47   \n",
       "767     1       93            70            31        0  30.4     0.315   23   \n",
       "\n",
       "     label  \n",
       "0        1  \n",
       "1        0  \n",
       "2        1  \n",
       "3        0  \n",
       "4        1  \n",
       "..     ...  \n",
       "763      0  \n",
       "764      0  \n",
       "765      0  \n",
       "766      1  \n",
       "767      0  \n",
       "\n",
       "[768 rows x 9 columns]"
      ]
     },
     "execution_count": 3,
     "metadata": {},
     "output_type": "execute_result"
    }
   ],
   "source": [
    "data"
   ]
  },
  {
   "cell_type": "markdown",
   "id": "1e243dd1",
   "metadata": {},
   "source": [
    "# Dataset Extension"
   ]
  },
  {
   "cell_type": "code",
   "execution_count": 4,
   "id": "b7067ac2",
   "metadata": {},
   "outputs": [
    {
     "data": {
      "text/html": [
       "<div>\n",
       "<style scoped>\n",
       "    .dataframe tbody tr th:only-of-type {\n",
       "        vertical-align: middle;\n",
       "    }\n",
       "\n",
       "    .dataframe tbody tr th {\n",
       "        vertical-align: top;\n",
       "    }\n",
       "\n",
       "    .dataframe thead th {\n",
       "        text-align: right;\n",
       "    }\n",
       "</style>\n",
       "<table border=\"1\" class=\"dataframe\">\n",
       "  <thead>\n",
       "    <tr style=\"text-align: right;\">\n",
       "      <th></th>\n",
       "      <th>preg</th>\n",
       "      <th>glucose</th>\n",
       "      <th>bp_diastolic</th>\n",
       "      <th>skin_triceps</th>\n",
       "      <th>insulin</th>\n",
       "      <th>bmi</th>\n",
       "      <th>pedigree</th>\n",
       "      <th>age</th>\n",
       "      <th>label</th>\n",
       "    </tr>\n",
       "  </thead>\n",
       "  <tbody>\n",
       "    <tr>\n",
       "      <th>0</th>\n",
       "      <td>6</td>\n",
       "      <td>148</td>\n",
       "      <td>72</td>\n",
       "      <td>35</td>\n",
       "      <td>0</td>\n",
       "      <td>33.6</td>\n",
       "      <td>0.627</td>\n",
       "      <td>50</td>\n",
       "      <td>1</td>\n",
       "    </tr>\n",
       "    <tr>\n",
       "      <th>1</th>\n",
       "      <td>1</td>\n",
       "      <td>85</td>\n",
       "      <td>66</td>\n",
       "      <td>29</td>\n",
       "      <td>0</td>\n",
       "      <td>26.6</td>\n",
       "      <td>0.351</td>\n",
       "      <td>31</td>\n",
       "      <td>0</td>\n",
       "    </tr>\n",
       "    <tr>\n",
       "      <th>2</th>\n",
       "      <td>8</td>\n",
       "      <td>183</td>\n",
       "      <td>64</td>\n",
       "      <td>0</td>\n",
       "      <td>0</td>\n",
       "      <td>23.3</td>\n",
       "      <td>0.672</td>\n",
       "      <td>32</td>\n",
       "      <td>1</td>\n",
       "    </tr>\n",
       "    <tr>\n",
       "      <th>3</th>\n",
       "      <td>1</td>\n",
       "      <td>89</td>\n",
       "      <td>66</td>\n",
       "      <td>23</td>\n",
       "      <td>94</td>\n",
       "      <td>28.1</td>\n",
       "      <td>0.167</td>\n",
       "      <td>21</td>\n",
       "      <td>0</td>\n",
       "    </tr>\n",
       "    <tr>\n",
       "      <th>4</th>\n",
       "      <td>0</td>\n",
       "      <td>137</td>\n",
       "      <td>40</td>\n",
       "      <td>35</td>\n",
       "      <td>168</td>\n",
       "      <td>43.1</td>\n",
       "      <td>2.288</td>\n",
       "      <td>33</td>\n",
       "      <td>1</td>\n",
       "    </tr>\n",
       "    <tr>\n",
       "      <th>...</th>\n",
       "      <td>...</td>\n",
       "      <td>...</td>\n",
       "      <td>...</td>\n",
       "      <td>...</td>\n",
       "      <td>...</td>\n",
       "      <td>...</td>\n",
       "      <td>...</td>\n",
       "      <td>...</td>\n",
       "      <td>...</td>\n",
       "    </tr>\n",
       "    <tr>\n",
       "      <th>1531</th>\n",
       "      <td>10</td>\n",
       "      <td>101</td>\n",
       "      <td>76</td>\n",
       "      <td>48</td>\n",
       "      <td>180</td>\n",
       "      <td>32.9</td>\n",
       "      <td>0.171</td>\n",
       "      <td>63</td>\n",
       "      <td>0</td>\n",
       "    </tr>\n",
       "    <tr>\n",
       "      <th>1532</th>\n",
       "      <td>2</td>\n",
       "      <td>122</td>\n",
       "      <td>70</td>\n",
       "      <td>27</td>\n",
       "      <td>0</td>\n",
       "      <td>36.8</td>\n",
       "      <td>0.340</td>\n",
       "      <td>27</td>\n",
       "      <td>0</td>\n",
       "    </tr>\n",
       "    <tr>\n",
       "      <th>1533</th>\n",
       "      <td>5</td>\n",
       "      <td>121</td>\n",
       "      <td>72</td>\n",
       "      <td>23</td>\n",
       "      <td>112</td>\n",
       "      <td>26.2</td>\n",
       "      <td>0.245</td>\n",
       "      <td>30</td>\n",
       "      <td>0</td>\n",
       "    </tr>\n",
       "    <tr>\n",
       "      <th>1534</th>\n",
       "      <td>1</td>\n",
       "      <td>126</td>\n",
       "      <td>60</td>\n",
       "      <td>0</td>\n",
       "      <td>0</td>\n",
       "      <td>30.1</td>\n",
       "      <td>0.349</td>\n",
       "      <td>47</td>\n",
       "      <td>1</td>\n",
       "    </tr>\n",
       "    <tr>\n",
       "      <th>1535</th>\n",
       "      <td>1</td>\n",
       "      <td>93</td>\n",
       "      <td>70</td>\n",
       "      <td>31</td>\n",
       "      <td>0</td>\n",
       "      <td>30.4</td>\n",
       "      <td>0.315</td>\n",
       "      <td>23</td>\n",
       "      <td>0</td>\n",
       "    </tr>\n",
       "  </tbody>\n",
       "</table>\n",
       "<p>1536 rows × 9 columns</p>\n",
       "</div>"
      ],
      "text/plain": [
       "      preg  glucose  bp_diastolic  skin_triceps  insulin   bmi  pedigree  age  \\\n",
       "0        6      148            72            35        0  33.6     0.627   50   \n",
       "1        1       85            66            29        0  26.6     0.351   31   \n",
       "2        8      183            64             0        0  23.3     0.672   32   \n",
       "3        1       89            66            23       94  28.1     0.167   21   \n",
       "4        0      137            40            35      168  43.1     2.288   33   \n",
       "...    ...      ...           ...           ...      ...   ...       ...  ...   \n",
       "1531    10      101            76            48      180  32.9     0.171   63   \n",
       "1532     2      122            70            27        0  36.8     0.340   27   \n",
       "1533     5      121            72            23      112  26.2     0.245   30   \n",
       "1534     1      126            60             0        0  30.1     0.349   47   \n",
       "1535     1       93            70            31        0  30.4     0.315   23   \n",
       "\n",
       "      label  \n",
       "0         1  \n",
       "1         0  \n",
       "2         1  \n",
       "3         0  \n",
       "4         1  \n",
       "...     ...  \n",
       "1531      0  \n",
       "1532      0  \n",
       "1533      0  \n",
       "1534      1  \n",
       "1535      0  \n",
       "\n",
       "[1536 rows x 9 columns]"
      ]
     },
     "execution_count": 4,
     "metadata": {},
     "output_type": "execute_result"
    }
   ],
   "source": [
    "# Generate synthetic data by doubling the 'label' values\n",
    "data_synthetic = data.copy()\n",
    "\n",
    "# Concatenate the original and synthetic DataFrames\n",
    "df = pd.concat([data, data_synthetic], ignore_index=True)\n",
    "\n",
    "# Display the extended DataFrame\n",
    "df"
   ]
  },
  {
   "cell_type": "code",
   "execution_count": 5,
   "id": "26c0b176",
   "metadata": {},
   "outputs": [
    {
     "data": {
      "text/html": [
       "<div>\n",
       "<style scoped>\n",
       "    .dataframe tbody tr th:only-of-type {\n",
       "        vertical-align: middle;\n",
       "    }\n",
       "\n",
       "    .dataframe tbody tr th {\n",
       "        vertical-align: top;\n",
       "    }\n",
       "\n",
       "    .dataframe thead th {\n",
       "        text-align: right;\n",
       "    }\n",
       "</style>\n",
       "<table border=\"1\" class=\"dataframe\">\n",
       "  <thead>\n",
       "    <tr style=\"text-align: right;\">\n",
       "      <th></th>\n",
       "      <th>preg</th>\n",
       "      <th>glucose</th>\n",
       "      <th>bp_diastolic</th>\n",
       "      <th>skin_triceps</th>\n",
       "      <th>insulin</th>\n",
       "      <th>bmi</th>\n",
       "      <th>pedigree</th>\n",
       "      <th>age</th>\n",
       "      <th>label</th>\n",
       "    </tr>\n",
       "  </thead>\n",
       "  <tbody>\n",
       "    <tr>\n",
       "      <th>0</th>\n",
       "      <td>6</td>\n",
       "      <td>148</td>\n",
       "      <td>72</td>\n",
       "      <td>35</td>\n",
       "      <td>0</td>\n",
       "      <td>33.6</td>\n",
       "      <td>0.627</td>\n",
       "      <td>50</td>\n",
       "      <td>1</td>\n",
       "    </tr>\n",
       "    <tr>\n",
       "      <th>1</th>\n",
       "      <td>1</td>\n",
       "      <td>85</td>\n",
       "      <td>66</td>\n",
       "      <td>29</td>\n",
       "      <td>0</td>\n",
       "      <td>26.6</td>\n",
       "      <td>0.351</td>\n",
       "      <td>31</td>\n",
       "      <td>0</td>\n",
       "    </tr>\n",
       "    <tr>\n",
       "      <th>2</th>\n",
       "      <td>8</td>\n",
       "      <td>183</td>\n",
       "      <td>64</td>\n",
       "      <td>0</td>\n",
       "      <td>0</td>\n",
       "      <td>23.3</td>\n",
       "      <td>0.672</td>\n",
       "      <td>32</td>\n",
       "      <td>1</td>\n",
       "    </tr>\n",
       "    <tr>\n",
       "      <th>3</th>\n",
       "      <td>1</td>\n",
       "      <td>89</td>\n",
       "      <td>66</td>\n",
       "      <td>23</td>\n",
       "      <td>94</td>\n",
       "      <td>28.1</td>\n",
       "      <td>0.167</td>\n",
       "      <td>21</td>\n",
       "      <td>0</td>\n",
       "    </tr>\n",
       "    <tr>\n",
       "      <th>4</th>\n",
       "      <td>0</td>\n",
       "      <td>137</td>\n",
       "      <td>40</td>\n",
       "      <td>35</td>\n",
       "      <td>168</td>\n",
       "      <td>43.1</td>\n",
       "      <td>2.288</td>\n",
       "      <td>33</td>\n",
       "      <td>1</td>\n",
       "    </tr>\n",
       "    <tr>\n",
       "      <th>5</th>\n",
       "      <td>5</td>\n",
       "      <td>116</td>\n",
       "      <td>74</td>\n",
       "      <td>0</td>\n",
       "      <td>0</td>\n",
       "      <td>25.6</td>\n",
       "      <td>0.201</td>\n",
       "      <td>30</td>\n",
       "      <td>0</td>\n",
       "    </tr>\n",
       "    <tr>\n",
       "      <th>6</th>\n",
       "      <td>3</td>\n",
       "      <td>78</td>\n",
       "      <td>50</td>\n",
       "      <td>32</td>\n",
       "      <td>88</td>\n",
       "      <td>31.0</td>\n",
       "      <td>0.248</td>\n",
       "      <td>26</td>\n",
       "      <td>1</td>\n",
       "    </tr>\n",
       "    <tr>\n",
       "      <th>7</th>\n",
       "      <td>10</td>\n",
       "      <td>115</td>\n",
       "      <td>0</td>\n",
       "      <td>0</td>\n",
       "      <td>0</td>\n",
       "      <td>35.3</td>\n",
       "      <td>0.134</td>\n",
       "      <td>29</td>\n",
       "      <td>0</td>\n",
       "    </tr>\n",
       "    <tr>\n",
       "      <th>8</th>\n",
       "      <td>2</td>\n",
       "      <td>197</td>\n",
       "      <td>70</td>\n",
       "      <td>45</td>\n",
       "      <td>543</td>\n",
       "      <td>30.5</td>\n",
       "      <td>0.158</td>\n",
       "      <td>53</td>\n",
       "      <td>1</td>\n",
       "    </tr>\n",
       "    <tr>\n",
       "      <th>9</th>\n",
       "      <td>8</td>\n",
       "      <td>125</td>\n",
       "      <td>96</td>\n",
       "      <td>0</td>\n",
       "      <td>0</td>\n",
       "      <td>0.0</td>\n",
       "      <td>0.232</td>\n",
       "      <td>54</td>\n",
       "      <td>1</td>\n",
       "    </tr>\n",
       "  </tbody>\n",
       "</table>\n",
       "</div>"
      ],
      "text/plain": [
       "   preg  glucose  bp_diastolic  skin_triceps  insulin   bmi  pedigree  age  \\\n",
       "0     6      148            72            35        0  33.6     0.627   50   \n",
       "1     1       85            66            29        0  26.6     0.351   31   \n",
       "2     8      183            64             0        0  23.3     0.672   32   \n",
       "3     1       89            66            23       94  28.1     0.167   21   \n",
       "4     0      137            40            35      168  43.1     2.288   33   \n",
       "5     5      116            74             0        0  25.6     0.201   30   \n",
       "6     3       78            50            32       88  31.0     0.248   26   \n",
       "7    10      115             0             0        0  35.3     0.134   29   \n",
       "8     2      197            70            45      543  30.5     0.158   53   \n",
       "9     8      125            96             0        0   0.0     0.232   54   \n",
       "\n",
       "   label  \n",
       "0      1  \n",
       "1      0  \n",
       "2      1  \n",
       "3      0  \n",
       "4      1  \n",
       "5      0  \n",
       "6      1  \n",
       "7      0  \n",
       "8      1  \n",
       "9      1  "
      ]
     },
     "execution_count": 5,
     "metadata": {},
     "output_type": "execute_result"
    }
   ],
   "source": [
    "df.head(10)"
   ]
  },
  {
   "cell_type": "code",
   "execution_count": 6,
   "id": "9779135c",
   "metadata": {},
   "outputs": [
    {
     "data": {
      "text/html": [
       "<div>\n",
       "<style scoped>\n",
       "    .dataframe tbody tr th:only-of-type {\n",
       "        vertical-align: middle;\n",
       "    }\n",
       "\n",
       "    .dataframe tbody tr th {\n",
       "        vertical-align: top;\n",
       "    }\n",
       "\n",
       "    .dataframe thead th {\n",
       "        text-align: right;\n",
       "    }\n",
       "</style>\n",
       "<table border=\"1\" class=\"dataframe\">\n",
       "  <thead>\n",
       "    <tr style=\"text-align: right;\">\n",
       "      <th></th>\n",
       "      <th>preg</th>\n",
       "      <th>glucose</th>\n",
       "      <th>bp_diastolic</th>\n",
       "      <th>skin_triceps</th>\n",
       "      <th>insulin</th>\n",
       "      <th>bmi</th>\n",
       "      <th>pedigree</th>\n",
       "      <th>age</th>\n",
       "      <th>label</th>\n",
       "    </tr>\n",
       "  </thead>\n",
       "  <tbody>\n",
       "    <tr>\n",
       "      <th>1531</th>\n",
       "      <td>10</td>\n",
       "      <td>101</td>\n",
       "      <td>76</td>\n",
       "      <td>48</td>\n",
       "      <td>180</td>\n",
       "      <td>32.9</td>\n",
       "      <td>0.171</td>\n",
       "      <td>63</td>\n",
       "      <td>0</td>\n",
       "    </tr>\n",
       "    <tr>\n",
       "      <th>1532</th>\n",
       "      <td>2</td>\n",
       "      <td>122</td>\n",
       "      <td>70</td>\n",
       "      <td>27</td>\n",
       "      <td>0</td>\n",
       "      <td>36.8</td>\n",
       "      <td>0.340</td>\n",
       "      <td>27</td>\n",
       "      <td>0</td>\n",
       "    </tr>\n",
       "    <tr>\n",
       "      <th>1533</th>\n",
       "      <td>5</td>\n",
       "      <td>121</td>\n",
       "      <td>72</td>\n",
       "      <td>23</td>\n",
       "      <td>112</td>\n",
       "      <td>26.2</td>\n",
       "      <td>0.245</td>\n",
       "      <td>30</td>\n",
       "      <td>0</td>\n",
       "    </tr>\n",
       "    <tr>\n",
       "      <th>1534</th>\n",
       "      <td>1</td>\n",
       "      <td>126</td>\n",
       "      <td>60</td>\n",
       "      <td>0</td>\n",
       "      <td>0</td>\n",
       "      <td>30.1</td>\n",
       "      <td>0.349</td>\n",
       "      <td>47</td>\n",
       "      <td>1</td>\n",
       "    </tr>\n",
       "    <tr>\n",
       "      <th>1535</th>\n",
       "      <td>1</td>\n",
       "      <td>93</td>\n",
       "      <td>70</td>\n",
       "      <td>31</td>\n",
       "      <td>0</td>\n",
       "      <td>30.4</td>\n",
       "      <td>0.315</td>\n",
       "      <td>23</td>\n",
       "      <td>0</td>\n",
       "    </tr>\n",
       "  </tbody>\n",
       "</table>\n",
       "</div>"
      ],
      "text/plain": [
       "      preg  glucose  bp_diastolic  skin_triceps  insulin   bmi  pedigree  age  \\\n",
       "1531    10      101            76            48      180  32.9     0.171   63   \n",
       "1532     2      122            70            27        0  36.8     0.340   27   \n",
       "1533     5      121            72            23      112  26.2     0.245   30   \n",
       "1534     1      126            60             0        0  30.1     0.349   47   \n",
       "1535     1       93            70            31        0  30.4     0.315   23   \n",
       "\n",
       "      label  \n",
       "1531      0  \n",
       "1532      0  \n",
       "1533      0  \n",
       "1534      1  \n",
       "1535      0  "
      ]
     },
     "execution_count": 6,
     "metadata": {},
     "output_type": "execute_result"
    }
   ],
   "source": [
    "df.tail()"
   ]
  },
  {
   "cell_type": "code",
   "execution_count": 7,
   "id": "e6930bde",
   "metadata": {},
   "outputs": [
    {
     "data": {
      "text/plain": [
       "Index(['preg', 'glucose', 'bp_diastolic', 'skin_triceps', 'insulin', 'bmi',\n",
       "       'pedigree', 'age', 'label'],\n",
       "      dtype='object')"
      ]
     },
     "execution_count": 7,
     "metadata": {},
     "output_type": "execute_result"
    }
   ],
   "source": [
    "df.columns"
   ]
  },
  {
   "cell_type": "code",
   "execution_count": 8,
   "id": "6d2daf8c",
   "metadata": {},
   "outputs": [
    {
     "name": "stdout",
     "output_type": "stream",
     "text": [
      "Number of Row in the Dataset: 1536\n",
      "Number of Columns in the Dataset: 9\n"
     ]
    }
   ],
   "source": [
    "print(\"Number of Row in the Dataset:\", df.shape[0])\n",
    "print(\"Number of Columns in the Dataset:\", df.shape[1])"
   ]
  },
  {
   "cell_type": "markdown",
   "id": "1275451f",
   "metadata": {},
   "source": [
    "# Missing Values:"
   ]
  },
  {
   "cell_type": "code",
   "execution_count": 9,
   "id": "6f4be7ba",
   "metadata": {},
   "outputs": [
    {
     "data": {
      "text/plain": [
       "preg            0\n",
       "glucose         0\n",
       "bp_diastolic    0\n",
       "skin_triceps    0\n",
       "insulin         0\n",
       "bmi             0\n",
       "pedigree        0\n",
       "age             0\n",
       "label           0\n",
       "dtype: int64"
      ]
     },
     "execution_count": 9,
     "metadata": {},
     "output_type": "execute_result"
    }
   ],
   "source": [
    "df.isnull().sum()"
   ]
  },
  {
   "cell_type": "code",
   "execution_count": 10,
   "id": "d9267e00",
   "metadata": {},
   "outputs": [
    {
     "name": "stdout",
     "output_type": "stream",
     "text": [
      "preg\n",
      "False    1536\n",
      "Name: preg, dtype: int64\n",
      "\n",
      "glucose\n",
      "False    1536\n",
      "Name: glucose, dtype: int64\n",
      "\n",
      "bp_diastolic\n",
      "False    1536\n",
      "Name: bp_diastolic, dtype: int64\n",
      "\n",
      "skin_triceps\n",
      "False    1536\n",
      "Name: skin_triceps, dtype: int64\n",
      "\n",
      "insulin\n",
      "False    1536\n",
      "Name: insulin, dtype: int64\n",
      "\n",
      "bmi\n",
      "False    1536\n",
      "Name: bmi, dtype: int64\n",
      "\n",
      "pedigree\n",
      "False    1536\n",
      "Name: pedigree, dtype: int64\n",
      "\n",
      "age\n",
      "False    1536\n",
      "Name: age, dtype: int64\n",
      "\n",
      "label\n",
      "False    1536\n",
      "Name: label, dtype: int64\n",
      "\n"
     ]
    }
   ],
   "source": [
    "#check missing Values in the Dataset\n",
    "missing_data=df.isnull()\n",
    "for column in missing_data.columns.values.tolist():\n",
    "    print(column)\n",
    "    print(missing_data[column].value_counts())\n",
    "    print(\"\")"
   ]
  },
  {
   "cell_type": "markdown",
   "id": "8ef0346d",
   "metadata": {},
   "source": [
    "No missing values found in the dataset, therefore data doesn't need to be drop or replace. "
   ]
  },
  {
   "cell_type": "markdown",
   "id": "a61654c0",
   "metadata": {},
   "source": [
    "# Outliers Analysis"
   ]
  },
  {
   "cell_type": "code",
   "execution_count": 11,
   "id": "431629de",
   "metadata": {},
   "outputs": [
    {
     "data": {
      "image/png": "[encoded data removed]",
      "text/plain": [
       "<Figure size 1400x600 with 1 Axes>"
      ]
     },
     "metadata": {},
     "output_type": "display_data"
    }
   ],
   "source": [
    "def show_boxplot(df):\n",
    "    plt.rcParams['figure.figsize'] = [14,6]\n",
    "    sns.boxplot(data = df, orient=\"v\")\n",
    "    plt.title(\"Outliers Distribution\", fontsize = 16)\n",
    "    plt.ylabel(\"Range\", fontweight = 'bold')\n",
    "    plt.xlabel(\"Attributes\", fontweight = 'bold')\n",
    "show_boxplot(df)"
   ]
  },
  {
   "cell_type": "code",
   "execution_count": 70,
   "id": "29184327",
   "metadata": {},
   "outputs": [
    {
     "data": {
      "image/png": "[encoded data removed]",
      "text/plain": [
       "<Figure size 1400x600 with 1 Axes>"
      ]
     },
     "metadata": {},
     "output_type": "display_data"
    }
   ],
   "source": [
    "#Function 1st time\n",
    "def remove_outliers(data):\n",
    "   \n",
    "    df = data.copy()\n",
    "\n",
    "    for col in list(df.columns):\n",
    "        Q1 = df[str(col)].quantile(0.25)\n",
    "        Q3 = df[str(col)].quantile(0.75)\n",
    "        IQR = Q3 - Q1\n",
    "        # Define the lower and upper bounds to filter outliers\n",
    "        lower_bound = Q1 - 1.5 * IQR\n",
    "        upper_bound = Q3 + 1.5 * IQR\n",
    "\n",
    "        df = df[(df[str(col)] >= lower_bound) & (df[str(col)] <= upper_bound)]\n",
    "\n",
    "    return df\n",
    "without_outliers = remove_outliers(df)\n",
    "show_boxplot(without_outliers)"
   ]
  },
  {
   "cell_type": "markdown",
   "id": "0f1aa349",
   "metadata": {},
   "source": [
    "NOTE: Outliers completely removed, after function has been run two to three times. "
   ]
  },
  {
   "cell_type": "code",
   "execution_count": 71,
   "id": "99df365c",
   "metadata": {},
   "outputs": [],
   "source": [
    "df=without_outliers"
   ]
  },
  {
   "cell_type": "markdown",
   "id": "17d50878",
   "metadata": {},
   "source": [
    "# Data Formating"
   ]
  },
  {
   "cell_type": "code",
   "execution_count": 72,
   "id": "d6f1758b",
   "metadata": {
    "scrolled": false
   },
   "outputs": [
    {
     "data": {
      "text/plain": [
       "preg              int64\n",
       "glucose           int64\n",
       "bp_diastolic      int64\n",
       "skin_triceps      int64\n",
       "insulin           int64\n",
       "bmi             float64\n",
       "pedigree        float64\n",
       "age               int64\n",
       "label             int64\n",
       "dtype: object"
      ]
     },
     "execution_count": 72,
     "metadata": {},
     "output_type": "execute_result"
    }
   ],
   "source": [
    "df.dtypes"
   ]
  },
  {
   "cell_type": "markdown",
   "id": "667e0df8",
   "metadata": {},
   "source": [
    "# Exploratory Data Analysis (EDA)"
   ]
  },
  {
   "cell_type": "markdown",
   "id": "07603461",
   "metadata": {},
   "source": [
    "# Descriptive Satistics:"
   ]
  },
  {
   "cell_type": "code",
   "execution_count": 73,
   "id": "f6a9abdf",
   "metadata": {
    "scrolled": true
   },
   "outputs": [
    {
     "data": {
      "text/html": [
       "<div>\n",
       "<style scoped>\n",
       "    .dataframe tbody tr th:only-of-type {\n",
       "        vertical-align: middle;\n",
       "    }\n",
       "\n",
       "    .dataframe tbody tr th {\n",
       "        vertical-align: top;\n",
       "    }\n",
       "\n",
       "    .dataframe thead th {\n",
       "        text-align: right;\n",
       "    }\n",
       "</style>\n",
       "<table border=\"1\" class=\"dataframe\">\n",
       "  <thead>\n",
       "    <tr style=\"text-align: right;\">\n",
       "      <th></th>\n",
       "      <th>count</th>\n",
       "      <th>mean</th>\n",
       "      <th>std</th>\n",
       "      <th>min</th>\n",
       "      <th>25%</th>\n",
       "      <th>50%</th>\n",
       "      <th>75%</th>\n",
       "      <th>max</th>\n",
       "    </tr>\n",
       "  </thead>\n",
       "  <tbody>\n",
       "    <tr>\n",
       "      <th>preg</th>\n",
       "      <td>1154.0</td>\n",
       "      <td>3.714038</td>\n",
       "      <td>3.220655</td>\n",
       "      <td>0.000</td>\n",
       "      <td>1.000</td>\n",
       "      <td>3.000</td>\n",
       "      <td>6.00</td>\n",
       "      <td>13.000</td>\n",
       "    </tr>\n",
       "    <tr>\n",
       "      <th>glucose</th>\n",
       "      <td>1154.0</td>\n",
       "      <td>115.873484</td>\n",
       "      <td>26.601090</td>\n",
       "      <td>44.000</td>\n",
       "      <td>97.000</td>\n",
       "      <td>112.000</td>\n",
       "      <td>130.00</td>\n",
       "      <td>187.000</td>\n",
       "    </tr>\n",
       "    <tr>\n",
       "      <th>bp_diastolic</th>\n",
       "      <td>1154.0</td>\n",
       "      <td>71.512998</td>\n",
       "      <td>10.927511</td>\n",
       "      <td>44.000</td>\n",
       "      <td>64.000</td>\n",
       "      <td>72.000</td>\n",
       "      <td>78.00</td>\n",
       "      <td>104.000</td>\n",
       "    </tr>\n",
       "    <tr>\n",
       "      <th>skin_triceps</th>\n",
       "      <td>1154.0</td>\n",
       "      <td>20.554593</td>\n",
       "      <td>15.202166</td>\n",
       "      <td>0.000</td>\n",
       "      <td>0.000</td>\n",
       "      <td>23.000</td>\n",
       "      <td>32.00</td>\n",
       "      <td>60.000</td>\n",
       "    </tr>\n",
       "    <tr>\n",
       "      <th>insulin</th>\n",
       "      <td>1154.0</td>\n",
       "      <td>63.875217</td>\n",
       "      <td>74.846904</td>\n",
       "      <td>0.000</td>\n",
       "      <td>0.000</td>\n",
       "      <td>42.000</td>\n",
       "      <td>115.00</td>\n",
       "      <td>285.000</td>\n",
       "    </tr>\n",
       "    <tr>\n",
       "      <th>bmi</th>\n",
       "      <td>1154.0</td>\n",
       "      <td>31.771577</td>\n",
       "      <td>6.290296</td>\n",
       "      <td>18.200</td>\n",
       "      <td>27.200</td>\n",
       "      <td>31.900</td>\n",
       "      <td>35.80</td>\n",
       "      <td>48.300</td>\n",
       "    </tr>\n",
       "    <tr>\n",
       "      <th>pedigree</th>\n",
       "      <td>1154.0</td>\n",
       "      <td>0.412315</td>\n",
       "      <td>0.226911</td>\n",
       "      <td>0.078</td>\n",
       "      <td>0.238</td>\n",
       "      <td>0.349</td>\n",
       "      <td>0.56</td>\n",
       "      <td>1.034</td>\n",
       "    </tr>\n",
       "    <tr>\n",
       "      <th>age</th>\n",
       "      <td>1154.0</td>\n",
       "      <td>31.386482</td>\n",
       "      <td>9.661649</td>\n",
       "      <td>21.000</td>\n",
       "      <td>24.000</td>\n",
       "      <td>28.000</td>\n",
       "      <td>38.00</td>\n",
       "      <td>59.000</td>\n",
       "    </tr>\n",
       "    <tr>\n",
       "      <th>label</th>\n",
       "      <td>1154.0</td>\n",
       "      <td>0.287695</td>\n",
       "      <td>0.452884</td>\n",
       "      <td>0.000</td>\n",
       "      <td>0.000</td>\n",
       "      <td>0.000</td>\n",
       "      <td>1.00</td>\n",
       "      <td>1.000</td>\n",
       "    </tr>\n",
       "  </tbody>\n",
       "</table>\n",
       "</div>"
      ],
      "text/plain": [
       "               count        mean        std     min     25%      50%     75%  \\\n",
       "preg          1154.0    3.714038   3.220655   0.000   1.000    3.000    6.00   \n",
       "glucose       1154.0  115.873484  26.601090  44.000  97.000  112.000  130.00   \n",
       "bp_diastolic  1154.0   71.512998  10.927511  44.000  64.000   72.000   78.00   \n",
       "skin_triceps  1154.0   20.554593  15.202166   0.000   0.000   23.000   32.00   \n",
       "insulin       1154.0   63.875217  74.846904   0.000   0.000   42.000  115.00   \n",
       "bmi           1154.0   31.771577   6.290296  18.200  27.200   31.900   35.80   \n",
       "pedigree      1154.0    0.412315   0.226911   0.078   0.238    0.349    0.56   \n",
       "age           1154.0   31.386482   9.661649  21.000  24.000   28.000   38.00   \n",
       "label         1154.0    0.287695   0.452884   0.000   0.000    0.000    1.00   \n",
       "\n",
       "                  max  \n",
       "preg           13.000  \n",
       "glucose       187.000  \n",
       "bp_diastolic  104.000  \n",
       "skin_triceps   60.000  \n",
       "insulin       285.000  \n",
       "bmi            48.300  \n",
       "pedigree        1.034  \n",
       "age            59.000  \n",
       "label           1.000  "
      ]
     },
     "execution_count": 73,
     "metadata": {},
     "output_type": "execute_result"
    }
   ],
   "source": [
    "df.describe().T"
   ]
  },
  {
   "cell_type": "code",
   "execution_count": 74,
   "id": "cdf8c021",
   "metadata": {},
   "outputs": [
    {
     "name": "stdout",
     "output_type": "stream",
     "text": [
      "<class 'pandas.core.frame.DataFrame'>\n",
      "Int64Index: 1154 entries, 0 to 1535\n",
      "Data columns (total 9 columns):\n",
      " #   Column        Non-Null Count  Dtype  \n",
      "---  ------        --------------  -----  \n",
      " 0   preg          1154 non-null   int64  \n",
      " 1   glucose       1154 non-null   int64  \n",
      " 2   bp_diastolic  1154 non-null   int64  \n",
      " 3   skin_triceps  1154 non-null   int64  \n",
      " 4   insulin       1154 non-null   int64  \n",
      " 5   bmi           1154 non-null   float64\n",
      " 6   pedigree      1154 non-null   float64\n",
      " 7   age           1154 non-null   int64  \n",
      " 8   label         1154 non-null   int64  \n",
      "dtypes: float64(2), int64(7)\n",
      "memory usage: 90.2 KB\n"
     ]
    }
   ],
   "source": [
    "df.info()"
   ]
  },
  {
   "cell_type": "code",
   "execution_count": 75,
   "id": "79d96895",
   "metadata": {},
   "outputs": [
    {
     "data": {
      "text/html": [
       "<div>\n",
       "<style scoped>\n",
       "    .dataframe tbody tr th:only-of-type {\n",
       "        vertical-align: middle;\n",
       "    }\n",
       "\n",
       "    .dataframe tbody tr th {\n",
       "        vertical-align: top;\n",
       "    }\n",
       "\n",
       "    .dataframe thead th {\n",
       "        text-align: right;\n",
       "    }\n",
       "</style>\n",
       "<table border=\"1\" class=\"dataframe\">\n",
       "  <thead>\n",
       "    <tr style=\"text-align: right;\">\n",
       "      <th></th>\n",
       "      <th>preg</th>\n",
       "      <th>glucose</th>\n",
       "      <th>bp_diastolic</th>\n",
       "      <th>skin_triceps</th>\n",
       "      <th>insulin</th>\n",
       "      <th>bmi</th>\n",
       "      <th>pedigree</th>\n",
       "      <th>age</th>\n",
       "      <th>label</th>\n",
       "    </tr>\n",
       "  </thead>\n",
       "  <tbody>\n",
       "    <tr>\n",
       "      <th>preg</th>\n",
       "      <td>1.000000</td>\n",
       "      <td>0.138795</td>\n",
       "      <td>0.189098</td>\n",
       "      <td>-0.100705</td>\n",
       "      <td>-0.122938</td>\n",
       "      <td>0.032606</td>\n",
       "      <td>0.020097</td>\n",
       "      <td>0.631633</td>\n",
       "      <td>0.243163</td>\n",
       "    </tr>\n",
       "    <tr>\n",
       "      <th>glucose</th>\n",
       "      <td>0.138795</td>\n",
       "      <td>1.000000</td>\n",
       "      <td>0.226439</td>\n",
       "      <td>0.006170</td>\n",
       "      <td>0.245943</td>\n",
       "      <td>0.182561</td>\n",
       "      <td>0.053757</td>\n",
       "      <td>0.228683</td>\n",
       "      <td>0.471691</td>\n",
       "    </tr>\n",
       "    <tr>\n",
       "      <th>bp_diastolic</th>\n",
       "      <td>0.189098</td>\n",
       "      <td>0.226439</td>\n",
       "      <td>1.000000</td>\n",
       "      <td>0.021498</td>\n",
       "      <td>-0.047203</td>\n",
       "      <td>0.273685</td>\n",
       "      <td>0.008331</td>\n",
       "      <td>0.347694</td>\n",
       "      <td>0.155218</td>\n",
       "    </tr>\n",
       "    <tr>\n",
       "      <th>skin_triceps</th>\n",
       "      <td>-0.100705</td>\n",
       "      <td>0.006170</td>\n",
       "      <td>0.021498</td>\n",
       "      <td>1.000000</td>\n",
       "      <td>0.490409</td>\n",
       "      <td>0.370966</td>\n",
       "      <td>0.153382</td>\n",
       "      <td>-0.120126</td>\n",
       "      <td>0.028706</td>\n",
       "    </tr>\n",
       "    <tr>\n",
       "      <th>insulin</th>\n",
       "      <td>-0.122938</td>\n",
       "      <td>0.245943</td>\n",
       "      <td>-0.047203</td>\n",
       "      <td>0.490409</td>\n",
       "      <td>1.000000</td>\n",
       "      <td>0.184621</td>\n",
       "      <td>0.240362</td>\n",
       "      <td>-0.089042</td>\n",
       "      <td>0.093990</td>\n",
       "    </tr>\n",
       "    <tr>\n",
       "      <th>bmi</th>\n",
       "      <td>0.032606</td>\n",
       "      <td>0.182561</td>\n",
       "      <td>0.273685</td>\n",
       "      <td>0.370966</td>\n",
       "      <td>0.184621</td>\n",
       "      <td>1.000000</td>\n",
       "      <td>0.127087</td>\n",
       "      <td>0.100759</td>\n",
       "      <td>0.260131</td>\n",
       "    </tr>\n",
       "    <tr>\n",
       "      <th>pedigree</th>\n",
       "      <td>0.020097</td>\n",
       "      <td>0.053757</td>\n",
       "      <td>0.008331</td>\n",
       "      <td>0.153382</td>\n",
       "      <td>0.240362</td>\n",
       "      <td>0.127087</td>\n",
       "      <td>1.000000</td>\n",
       "      <td>0.025637</td>\n",
       "      <td>0.169632</td>\n",
       "    </tr>\n",
       "    <tr>\n",
       "      <th>age</th>\n",
       "      <td>0.631633</td>\n",
       "      <td>0.228683</td>\n",
       "      <td>0.347694</td>\n",
       "      <td>-0.120126</td>\n",
       "      <td>-0.089042</td>\n",
       "      <td>0.100759</td>\n",
       "      <td>0.025637</td>\n",
       "      <td>1.000000</td>\n",
       "      <td>0.304393</td>\n",
       "    </tr>\n",
       "    <tr>\n",
       "      <th>label</th>\n",
       "      <td>0.243163</td>\n",
       "      <td>0.471691</td>\n",
       "      <td>0.155218</td>\n",
       "      <td>0.028706</td>\n",
       "      <td>0.093990</td>\n",
       "      <td>0.260131</td>\n",
       "      <td>0.169632</td>\n",
       "      <td>0.304393</td>\n",
       "      <td>1.000000</td>\n",
       "    </tr>\n",
       "  </tbody>\n",
       "</table>\n",
       "</div>"
      ],
      "text/plain": [
       "                  preg   glucose  bp_diastolic  skin_triceps   insulin  \\\n",
       "preg          1.000000  0.138795      0.189098     -0.100705 -0.122938   \n",
       "glucose       0.138795  1.000000      0.226439      0.006170  0.245943   \n",
       "bp_diastolic  0.189098  0.226439      1.000000      0.021498 -0.047203   \n",
       "skin_triceps -0.100705  0.006170      0.021498      1.000000  0.490409   \n",
       "insulin      -0.122938  0.245943     -0.047203      0.490409  1.000000   \n",
       "bmi           0.032606  0.182561      0.273685      0.370966  0.184621   \n",
       "pedigree      0.020097  0.053757      0.008331      0.153382  0.240362   \n",
       "age           0.631633  0.228683      0.347694     -0.120126 -0.089042   \n",
       "label         0.243163  0.471691      0.155218      0.028706  0.093990   \n",
       "\n",
       "                   bmi  pedigree       age     label  \n",
       "preg          0.032606  0.020097  0.631633  0.243163  \n",
       "glucose       0.182561  0.053757  0.228683  0.471691  \n",
       "bp_diastolic  0.273685  0.008331  0.347694  0.155218  \n",
       "skin_triceps  0.370966  0.153382 -0.120126  0.028706  \n",
       "insulin       0.184621  0.240362 -0.089042  0.093990  \n",
       "bmi           1.000000  0.127087  0.100759  0.260131  \n",
       "pedigree      0.127087  1.000000  0.025637  0.169632  \n",
       "age           0.100759  0.025637  1.000000  0.304393  \n",
       "label         0.260131  0.169632  0.304393  1.000000  "
      ]
     },
     "execution_count": 75,
     "metadata": {},
     "output_type": "execute_result"
    }
   ],
   "source": [
    "df.corr()"
   ]
  },
  {
   "cell_type": "code",
   "execution_count": 76,
   "id": "1f7a4ab3",
   "metadata": {},
   "outputs": [
    {
     "name": "stdout",
     "output_type": "stream",
     "text": [
      "Total Rows of the dataset: 1154\n",
      "Total Columns of the dataset: 9\n"
     ]
    }
   ],
   "source": [
    "#Total size of the Rows of dataset:\n",
    "print(\"Total Rows of the dataset:\", df.shape[0])\n",
    "\n",
    "#Total size of the Columns of dataset:\n",
    "print(\"Total Columns of the dataset:\", df.shape[1])"
   ]
  },
  {
   "cell_type": "code",
   "execution_count": 77,
   "id": "1a439de1",
   "metadata": {},
   "outputs": [
    {
     "data": {
      "text/plain": [
       "0    822\n",
       "1    332\n",
       "Name: label, dtype: int64"
      ]
     },
     "execution_count": 77,
     "metadata": {},
     "output_type": "execute_result"
    }
   ],
   "source": [
    "#check label value count \n",
    "df.label.value_counts()"
   ]
  },
  {
   "cell_type": "markdown",
   "id": "eccff0fd",
   "metadata": {},
   "source": [
    "# Graphical Analysis"
   ]
  },
  {
   "cell_type": "code",
   "execution_count": 78,
   "id": "6cde5fac",
   "metadata": {},
   "outputs": [
    {
     "data": {
      "image/png": "[encoded data removed]",
      "text/plain": [
       "<Figure size 1500x1000 with 1 Axes>"
      ]
     },
     "metadata": {},
     "output_type": "display_data"
    }
   ],
   "source": [
    "# Box plots for numerical features\n",
    "plt.figure(figsize=(15, 10))\n",
    "df.boxplot()\n",
    "plt.title('Box Plots for Numerical Features')\n",
    "plt.show()"
   ]
  },
  {
   "cell_type": "code",
   "execution_count": 79,
   "id": "dd19ff79",
   "metadata": {},
   "outputs": [
    {
     "data": {
      "image/png": "[encoded data removed]",
      "text/plain": [
       "<Figure size 1500x1000 with 9 Axes>"
      ]
     },
     "metadata": {},
     "output_type": "display_data"
    }
   ],
   "source": [
    "# Distribution of numerical features\n",
    "df.hist(bins=20, figsize=(15, 10))\n",
    "plt.suptitle('Distribution of Numerical Features')\n",
    "plt.show()"
   ]
  },
  {
   "cell_type": "markdown",
   "id": "90b4d2ec",
   "metadata": {},
   "source": [
    "# HeatMap"
   ]
  },
  {
   "cell_type": "code",
   "execution_count": 80,
   "id": "5b399feb",
   "metadata": {},
   "outputs": [
    {
     "data": {
      "image/png": "[encoded data removed]",
      "text/plain": [
       "<Figure size 600x600 with 2 Axes>"
      ]
     },
     "metadata": {},
     "output_type": "display_data"
    }
   ],
   "source": [
    "#get correlations of each features in dataset\n",
    "corrmat = df.corr()\n",
    "top_corr_features = corrmat.index\n",
    "plt.figure(figsize=(6,6))\n",
    "#plot heat map\n",
    "sns.heatmap(df[top_corr_features].corr(),annot=True,cmap=\"RdYlBu\", annot_kws={\"fontsize\": 8});"
   ]
  },
  {
   "cell_type": "raw",
   "id": "ffd2514f",
   "metadata": {},
   "source": [
    "# Pairplot with categorical hue for better insight into relationships\n",
    "sns.pairplot(df, hue='label', diag_kind='kde', plot_kws={'alpha': 0.5})\n",
    "plt.suptitle('Pairplot of Features with Categorical Hue', y=1.02)\n",
    "plt.show()\n"
   ]
  },
  {
   "cell_type": "code",
   "execution_count": 81,
   "id": "bf0d6c16",
   "metadata": {},
   "outputs": [
    {
     "data": {
      "image/png": "[encoded data removed]",
      "text/plain": [
       "<Figure size 1400x600 with 1 Axes>"
      ]
     },
     "metadata": {},
     "output_type": "display_data"
    }
   ],
   "source": [
    "# Distribution of categorical features\n",
    "sns.countplot(x='age', data=df)\n",
    "plt.title('Distribution of Age')\n",
    "plt.show()"
   ]
  },
  {
   "cell_type": "code",
   "execution_count": 82,
   "id": "b49f14f8",
   "metadata": {},
   "outputs": [
    {
     "data": {
      "text/plain": [
       "['preg',\n",
       " 'glucose',\n",
       " 'bp_diastolic',\n",
       " 'skin_triceps',\n",
       " 'insulin',\n",
       " 'bmi',\n",
       " 'pedigree',\n",
       " 'age',\n",
       " 'label']"
      ]
     },
     "execution_count": 82,
     "metadata": {},
     "output_type": "execute_result"
    }
   ],
   "source": [
    "cols=list(df.columns)\n",
    "cols"
   ]
  },
  {
   "cell_type": "code",
   "execution_count": 83,
   "id": "5877b4da",
   "metadata": {},
   "outputs": [
    {
     "name": "stdout",
     "output_type": "stream",
     "text": [
      "['preg', 'glucose', 'bp_diastolic', 'skin_triceps', 'insulin', 'bmi', 'pedigree', 'age']\n"
     ]
    }
   ],
   "source": [
    "feature_cols=['preg', 'glucose', 'bp_diastolic', 'skin_triceps', 'insulin', 'bmi', 'pedigree', 'age']\n",
    "print(feature_cols)"
   ]
  },
  {
   "cell_type": "markdown",
   "id": "a82031f3",
   "metadata": {},
   "source": [
    "# Data Train-Test split"
   ]
  },
  {
   "cell_type": "code",
   "execution_count": 84,
   "id": "99caf3c4",
   "metadata": {},
   "outputs": [],
   "source": [
    "#Library Call for data split in two portion Train and Test: \n",
    "from sklearn.model_selection import train_test_split"
   ]
  },
  {
   "cell_type": "code",
   "execution_count": 85,
   "id": "86162ac0",
   "metadata": {},
   "outputs": [],
   "source": [
    "#dataframe\n",
    "x=df[feature_cols]  #feature\n",
    "#series\n",
    "y=df.label\n",
    "x_train, x_test, y_train, y_test = train_test_split(x, y, test_size =0.25, random_state=30)"
   ]
  },
  {
   "cell_type": "code",
   "execution_count": 86,
   "id": "eda346df",
   "metadata": {},
   "outputs": [
    {
     "name": "stdout",
     "output_type": "stream",
     "text": [
      "[XY_Train] dataset Shape: (865, 8)\n",
      "[XY_Test] dataset Shape: (289, 8)\n"
     ]
    }
   ],
   "source": [
    "#Total size of the Training dataset:\n",
    "print(\"[XY_Train] dataset Shape:\", x_train.shape)\n",
    "\n",
    "#Total size of the Testing dataset:\n",
    "print(\"[XY_Test] dataset Shape:\", x_test.shape)"
   ]
  },
  {
   "cell_type": "code",
   "execution_count": 87,
   "id": "da53c098",
   "metadata": {},
   "outputs": [
    {
     "name": "stdout",
     "output_type": "stream",
     "text": [
      "[Y_Train] Total number of [0] in dataset : 609\n",
      "[Y_Train] Total number of [1] in dataset : 256\n"
     ]
    }
   ],
   "source": [
    "#Checking the number of 0's in Training portion of the Dataset:\n",
    "print(\"[Y_Train] Total number of [0] in dataset :\", len(y_train[y_train==0]))\n",
    "\n",
    "#Checking the number of 1's in Training portion of the Dataset:\n",
    "print(\"[Y_Train] Total number of [1] in dataset :\", len(y_train[y_train==1]))"
   ]
  },
  {
   "cell_type": "code",
   "execution_count": 88,
   "id": "21dafd71",
   "metadata": {},
   "outputs": [
    {
     "name": "stdout",
     "output_type": "stream",
     "text": [
      "[Y_Test] Total number of [0] in dataset : 213\n",
      "[Y_Test] Total number of [1] in dataset : 76\n"
     ]
    }
   ],
   "source": [
    "#Checking the number of 0's in Testing portion of the Dataset:\n",
    "print(\"[Y_Test] Total number of [0] in dataset :\", len(y_test[y_test==0]))\n",
    "\n",
    "#Checking the number of 1's in Testing portion of the Dataset:\n",
    "print(\"[Y_Test] Total number of [1] in dataset :\", len(y_test[y_test==1]))"
   ]
  },
  {
   "cell_type": "code",
   "execution_count": 89,
   "id": "502c7b61",
   "metadata": {},
   "outputs": [
    {
     "data": {
      "image/png": "[encoded data removed]",
      "text/plain": [
       "<Figure size 400x400 with 1 Axes>"
      ]
     },
     "metadata": {},
     "output_type": "display_data"
    }
   ],
   "source": [
    "# get total number of 0 in the training dataset\n",
    "Trcount0 = y_train[y_train==0].count()\n",
    "\n",
    "# get total number of 1 in the training dataset\n",
    "Trcount1 = y_train[y_train==1].count()\n",
    "\n",
    "# Plotting the bar chart\n",
    "label = ['0', '1']\n",
    "counts = [Trcount0, Trcount1]\n",
    "\n",
    "plt.figure(figsize=(4,4))\n",
    "plt.title('Counts of 0 and 1 in Training Dataset')\n",
    "plt.bar(label, counts)\n",
    "\n",
    "# Add annotations to the bars\n",
    "for i, count in enumerate(counts):\n",
    "    plt.text(i, count, str(count), ha='center', va='bottom')\n",
    "   \n",
    "plt.show()"
   ]
  },
  {
   "cell_type": "code",
   "execution_count": 90,
   "id": "44505983",
   "metadata": {},
   "outputs": [
    {
     "data": {
      "image/png": "[encoded data removed]",
      "text/plain": [
       "<Figure size 400x400 with 1 Axes>"
      ]
     },
     "metadata": {},
     "output_type": "display_data"
    }
   ],
   "source": [
    "# get total number of 0 in the testing dataset\n",
    "Trcount0 = y_test[y_test==0].count()\n",
    "\n",
    "# get total number of 1 in the testing dataset\n",
    "Trcount1 = y_test[y_test==1].count()\n",
    "\n",
    "# Plotting the bar chart\n",
    "label = ['0', '1']\n",
    "counts = [Trcount0, Trcount1]\n",
    "\n",
    "plt.figure(figsize=(4,4))\n",
    "plt.title('Counts of 0 and 1 in Testing Dataset')\n",
    "plt.bar(label, counts)\n",
    "\n",
    "# Add annotations to the bars\n",
    "for i, count in enumerate(counts):\n",
    "    plt.text(i, count, str(count), ha='center', va='bottom')\n",
    "   \n",
    "plt.show()"
   ]
  },
  {
   "cell_type": "markdown",
   "id": "dd17db95",
   "metadata": {},
   "source": [
    "# Random Forest Lib Call"
   ]
  },
  {
   "cell_type": "code",
   "execution_count": 91,
   "id": "ea1a1b57",
   "metadata": {},
   "outputs": [],
   "source": [
    "from sklearn.ensemble import RandomForestClassifier\n",
    "clf=RandomForestClassifier(n_estimators=3)"
   ]
  },
  {
   "cell_type": "code",
   "execution_count": 92,
   "id": "b5326fb1",
   "metadata": {},
   "outputs": [],
   "source": [
    "# Train Classifer\n",
    "model = clf.fit(x_train, y_train)"
   ]
  },
  {
   "cell_type": "markdown",
   "id": "7e99a0e5",
   "metadata": {},
   "source": [
    "# Model"
   ]
  },
  {
   "cell_type": "code",
   "execution_count": 93,
   "id": "ef5b7d69",
   "metadata": {},
   "outputs": [],
   "source": [
    "#Predict the response for test dataset\n",
    "y_pred = clf.predict(x_test)"
   ]
  },
  {
   "cell_type": "code",
   "execution_count": 94,
   "id": "a9362cae",
   "metadata": {},
   "outputs": [
    {
     "data": {
      "text/html": [
       "<div>\n",
       "<style scoped>\n",
       "    .dataframe tbody tr th:only-of-type {\n",
       "        vertical-align: middle;\n",
       "    }\n",
       "\n",
       "    .dataframe tbody tr th {\n",
       "        vertical-align: top;\n",
       "    }\n",
       "\n",
       "    .dataframe thead th {\n",
       "        text-align: right;\n",
       "    }\n",
       "</style>\n",
       "<table border=\"1\" class=\"dataframe\">\n",
       "  <thead>\n",
       "    <tr style=\"text-align: right;\">\n",
       "      <th></th>\n",
       "      <th>Origional</th>\n",
       "      <th>Predicted</th>\n",
       "    </tr>\n",
       "  </thead>\n",
       "  <tbody>\n",
       "    <tr>\n",
       "      <th>575</th>\n",
       "      <td>0</td>\n",
       "      <td>0</td>\n",
       "    </tr>\n",
       "    <tr>\n",
       "      <th>0</th>\n",
       "      <td>1</td>\n",
       "      <td>1</td>\n",
       "    </tr>\n",
       "    <tr>\n",
       "      <th>572</th>\n",
       "      <td>0</td>\n",
       "      <td>0</td>\n",
       "    </tr>\n",
       "    <tr>\n",
       "      <th>1284</th>\n",
       "      <td>1</td>\n",
       "      <td>1</td>\n",
       "    </tr>\n",
       "    <tr>\n",
       "      <th>611</th>\n",
       "      <td>1</td>\n",
       "      <td>1</td>\n",
       "    </tr>\n",
       "  </tbody>\n",
       "</table>\n",
       "</div>"
      ],
      "text/plain": [
       "      Origional  Predicted\n",
       "575           0          0\n",
       "0             1          1\n",
       "572           0          0\n",
       "1284          1          1\n",
       "611           1          1"
      ]
     },
     "execution_count": 94,
     "metadata": {},
     "output_type": "execute_result"
    }
   ],
   "source": [
    "y=pd.DataFrame({\"Origional\": y_test, \"Predicted\": y_pred})\n",
    "y.head()"
   ]
  },
  {
   "cell_type": "code",
   "execution_count": 95,
   "id": "65e51bc9",
   "metadata": {},
   "outputs": [
    {
     "data": {
      "text/html": [
       "<div>\n",
       "<style scoped>\n",
       "    .dataframe tbody tr th:only-of-type {\n",
       "        vertical-align: middle;\n",
       "    }\n",
       "\n",
       "    .dataframe tbody tr th {\n",
       "        vertical-align: top;\n",
       "    }\n",
       "\n",
       "    .dataframe thead th {\n",
       "        text-align: right;\n",
       "    }\n",
       "</style>\n",
       "<table border=\"1\" class=\"dataframe\">\n",
       "  <thead>\n",
       "    <tr style=\"text-align: right;\">\n",
       "      <th></th>\n",
       "      <th>Origional</th>\n",
       "      <th>Predicted</th>\n",
       "    </tr>\n",
       "  </thead>\n",
       "  <tbody>\n",
       "    <tr>\n",
       "      <th>473</th>\n",
       "      <td>0</td>\n",
       "      <td>0</td>\n",
       "    </tr>\n",
       "    <tr>\n",
       "      <th>3</th>\n",
       "      <td>0</td>\n",
       "      <td>0</td>\n",
       "    </tr>\n",
       "    <tr>\n",
       "      <th>135</th>\n",
       "      <td>0</td>\n",
       "      <td>0</td>\n",
       "    </tr>\n",
       "    <tr>\n",
       "      <th>652</th>\n",
       "      <td>0</td>\n",
       "      <td>0</td>\n",
       "    </tr>\n",
       "    <tr>\n",
       "      <th>735</th>\n",
       "      <td>0</td>\n",
       "      <td>0</td>\n",
       "    </tr>\n",
       "    <tr>\n",
       "      <th>1295</th>\n",
       "      <td>0</td>\n",
       "      <td>0</td>\n",
       "    </tr>\n",
       "    <tr>\n",
       "      <th>253</th>\n",
       "      <td>0</td>\n",
       "      <td>0</td>\n",
       "    </tr>\n",
       "    <tr>\n",
       "      <th>116</th>\n",
       "      <td>1</td>\n",
       "      <td>1</td>\n",
       "    </tr>\n",
       "    <tr>\n",
       "      <th>1341</th>\n",
       "      <td>0</td>\n",
       "      <td>0</td>\n",
       "    </tr>\n",
       "    <tr>\n",
       "      <th>832</th>\n",
       "      <td>1</td>\n",
       "      <td>1</td>\n",
       "    </tr>\n",
       "  </tbody>\n",
       "</table>\n",
       "</div>"
      ],
      "text/plain": [
       "      Origional  Predicted\n",
       "473           0          0\n",
       "3             0          0\n",
       "135           0          0\n",
       "652           0          0\n",
       "735           0          0\n",
       "1295          0          0\n",
       "253           0          0\n",
       "116           1          1\n",
       "1341          0          0\n",
       "832           1          1"
      ]
     },
     "execution_count": 95,
     "metadata": {},
     "output_type": "execute_result"
    }
   ],
   "source": [
    "y.sample(10)"
   ]
  },
  {
   "cell_type": "markdown",
   "id": "ac195a36",
   "metadata": {},
   "source": [
    "# Confusion Matrics"
   ]
  },
  {
   "cell_type": "code",
   "execution_count": 96,
   "id": "0bc5528e",
   "metadata": {},
   "outputs": [
    {
     "name": "stdout",
     "output_type": "stream",
     "text": [
      "Confusion Matrix:\n",
      "[[197  16]\n",
      " [  8  68]]\n"
     ]
    },
    {
     "data": {
      "image/png": "[encoded data removed]",
      "text/plain": [
       "<Figure size 400x400 with 2 Axes>"
      ]
     },
     "metadata": {},
     "output_type": "display_data"
    }
   ],
   "source": [
    "# calculate accuracy\n",
    "from sklearn import metrics\n",
    "\n",
    "result = metrics.confusion_matrix(y_test, y_pred)\n",
    "print(\"Confusion Matrix:\")\n",
    "print(result)\n",
    "\n",
    "def plt1():\n",
    "    import seaborn as sns; sns.set()\n",
    "    plt.figure(figsize=(4,4))\n",
    "    c_mtrx = pd.crosstab(y_test, y_pred, rownames=['Actual'], colnames=['Predicted'])\n",
    "    sns.heatmap(c_mtrx, annot=True, fmt = '.3g')\n",
    "\n",
    "plt1()"
   ]
  },
  {
   "cell_type": "markdown",
   "id": "658203d9",
   "metadata": {},
   "source": [
    "# Accuracy Calculation"
   ]
  },
  {
   "cell_type": "code",
   "execution_count": 97,
   "id": "f387e671",
   "metadata": {},
   "outputs": [],
   "source": [
    "#[row, column]\n",
    "#(Actual, Predict)\n",
    "TP = result[1, 1]      \n",
    "TN = result[0, 0]\n",
    "FP = result[0, 1]\n",
    "FN = result[1, 0]"
   ]
  },
  {
   "cell_type": "code",
   "execution_count": 98,
   "id": "63e65cd2",
   "metadata": {},
   "outputs": [
    {
     "name": "stdout",
     "output_type": "stream",
     "text": [
      "Metrics computed from a confusion matrix\n",
      "Accuracy:\t 0.916955017301038\n",
      "Sensitivity:\t 0.8947368421052632\n",
      "Specificity:\t 0.9248826291079812\n",
      "Precision:\t 0.8095238095238095\n",
      "Classification Eerror: 0.08304498269896199\n",
      "False_Positive_Rate: 0.07511737089201875\n",
      "###########################################\n"
     ]
    }
   ],
   "source": [
    "def EvClsMdl(res):\n",
    "    print('Metrics computed from a confusion matrix')\n",
    "    print(\"Accuracy:\\t\", metrics.accuracy_score(y_test, y_pred))\n",
    "    print(\"Sensitivity:\\t\", metrics.recall_score(y_test, y_pred))\n",
    "    print(\"Specificity:\\t\",TN / (TN + FP))\n",
    "    print(\"Precision:\\t\", metrics.precision_score(y_test, y_pred))\n",
    "    print(\"Classification Eerror:\", 1 - metrics.accuracy_score(y_test, y_pred))\n",
    "    print(\"False_Positive_Rate:\", 1 - TN / (TN + FP))\n",
    "    print('###########################################')\n",
    "EvClsMdl(result)"
   ]
  },
  {
   "cell_type": "markdown",
   "id": "ecbcd332",
   "metadata": {},
   "source": [
    "# KNN Algorithm"
   ]
  },
  {
   "cell_type": "markdown",
   "id": "cc6d410b",
   "metadata": {},
   "source": [
    "# Before Improvement "
   ]
  },
  {
   "cell_type": "raw",
   "id": "ea790494",
   "metadata": {},
   "source": [
    "Metrics computed from a confusion matrix\n",
    "Accuracy:\t 0.734375\n",
    "Sensitivity:\t 0.6521739130434783\n",
    "Specificity:\t 0.7804878048780488\n",
    "Precision:\t 0.625\n",
    "Classification Eerror: 0.265625\n",
    "False_Positive_Rate: 0.2195121951219512\n",
    "###########################################"
   ]
  },
  {
   "cell_type": "markdown",
   "id": "9cd94256",
   "metadata": {},
   "source": [
    "# After Improvement"
   ]
  },
  {
   "cell_type": "raw",
   "id": "3118f7a7",
   "metadata": {},
   "source": [
    "Metrics computed from a confusion matrix\n",
    "Accuracy:\t 0.7955555555555556\n",
    "Sensitivity:\t 0.6415094339622641\n",
    "Specificity:\t 0.8430232558139535\n",
    "Precision:\t 0.5573770491803278\n",
    "Classification Eerror: 0.20444444444444443\n",
    "False_Positive_Rate: 0.15697674418604646\n",
    "###########################################"
   ]
  },
  {
   "cell_type": "markdown",
   "id": "219f8d74",
   "metadata": {},
   "source": [
    "# Decision Tree Algorithm"
   ]
  },
  {
   "cell_type": "markdown",
   "id": "3fbd6590",
   "metadata": {},
   "source": [
    "# Before Improvement"
   ]
  },
  {
   "cell_type": "raw",
   "id": "44a10e61",
   "metadata": {},
   "source": [
    "Metrics computed from a confusion matrix\n",
    "Accuracy:\t 0.734375\n",
    "Sensitivity:\t 0.6521739130434783\n",
    "Specificity:\t 0.7804878048780488\n",
    "Precision:\t 0.625\n",
    "Classification Eerror: 0.265625\n",
    "False_Positive_Rate: 0.2195121951219512\n",
    "###########################################"
   ]
  },
  {
   "cell_type": "markdown",
   "id": "604bbce5",
   "metadata": {},
   "source": [
    "# After Improvement"
   ]
  },
  {
   "cell_type": "raw",
   "id": "649bddb9",
   "metadata": {},
   "source": [
    "Metrics computed from a confusion matrix\n",
    "Accuracy:\t 0.84\n",
    "Sensitivity:\t 0.3584905660377358\n",
    "Specificity:\t 0.9883720930232558\n",
    "Precision:\t 0.9047619047619048\n",
    "Classification Eerror: 0.16000000000000003\n",
    "False_Positive_Rate: 0.011627906976744207\n",
    "###########################################"
   ]
  },
  {
   "cell_type": "markdown",
   "id": "af750cff",
   "metadata": {},
   "source": [
    "# Random Forest Accuracy"
   ]
  },
  {
   "cell_type": "markdown",
   "id": "350c59d2",
   "metadata": {},
   "source": [
    "# Before Improvement"
   ]
  },
  {
   "cell_type": "raw",
   "id": "186bbe78",
   "metadata": {},
   "source": [
    "Metrics computed from a confusion matrix\n",
    "Accuracy:\t 0.8723958333333334\n",
    "Sensitivity:\t 0.8043478260869565\n",
    "Specificity:\t 0.9105691056910569\n",
    "Precision:\t 0.8345864661654135\n",
    "Classification Eerror: 0.12760416666666663\n",
    "False_Positive_Rate: 0.08943089430894313\n",
    "###########################################"
   ]
  },
  {
   "cell_type": "markdown",
   "id": "726d1398",
   "metadata": {},
   "source": [
    "# After Improvement "
   ]
  },
  {
   "cell_type": "raw",
   "id": "95edb674",
   "metadata": {},
   "source": [
    "Metrics computed from a confusion matrix\n",
    "Accuracy:\t 0.9496402877697842\n",
    "Sensitivity:\t 0.8688524590163934\n",
    "Specificity:\t 0.9723502304147466\n",
    "Precision:\t 0.8983050847457628\n",
    "Classification Eerror: 0.05035971223021585\n",
    "False_Positive_Rate: 0.027649769585253448\n",
    "###########################################"
   ]
  },
  {
   "cell_type": "code",
   "execution_count": null,
   "id": "cb8e1f5b",
   "metadata": {},
   "outputs": [],
   "source": []
  }
 ],
 "metadata": {
  "kernelspec": {
   "display_name": "Python 3 (ipykernel)",
   "language": "python",
   "name": "python3"
  },
  "language_info": {
   "codemirror_mode": {
    "name": "ipython",
    "version": 3
   },
   "file_extension": ".py",
   "mimetype": "text/x-python",
   "name": "python",
   "nbconvert_exporter": "python",
   "pygments_lexer": "ipython3",
   "version": "3.10.9"
  }
 },
 "nbformat": 4,
 "nbformat_minor": 5
}
